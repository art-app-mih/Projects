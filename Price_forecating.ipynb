{
 "cells": [
  {
   "cell_type": "markdown",
   "metadata": {
    "colab_type": "text",
    "id": "ef-cfwWLz-_4"
   },
   "source": [
    "# Задание 1\n",
    "\n",
    "Проведение анализа представленных данных, поиск ключевых характеристик и визуализация."
   ]
  },
  {
   "cell_type": "markdown",
   "metadata": {
    "colab_type": "text",
    "id": "vD-D2cPNz-_5"
   },
   "source": [
    "Вначале импортируем все необходимые библиотеки"
   ]
  },
  {
   "cell_type": "code",
   "execution_count": 1,
   "metadata": {
    "colab": {
     "base_uri": "https://localhost:8080/",
     "height": 71
    },
    "colab_type": "code",
    "executionInfo": {
     "elapsed": 1564,
     "status": "ok",
     "timestamp": 1591537881242,
     "user": {
      "displayName": "Артем Аппалонов",
      "photoUrl": "https://lh3.googleusercontent.com/a-/AOh14Gjgbm6aTlWzcH_FO-MQ1AACkCOFA8cWOXGV6vPw=s64",
      "userId": "00355921924305036211"
     },
     "user_tz": -240
    },
    "id": "3jEIu6yuz-_6",
    "outputId": "6f759cc7-b8cb-4770-d054-43eb98700ec2"
   },
   "outputs": [],
   "source": [
    "import numpy as np\n",
    "import pandas as pd\n",
    "import matplotlib.pyplot as plt\n",
    "from sklearn.decomposition import PCA\n",
    "from scipy.stats import pearsonr\n",
    "import math\n",
    "from sklearn.preprocessing import MinMaxScaler\n",
    "from sklearn.model_selection import RandomizedSearchCV\n",
    "from sklearn.ensemble import GradientBoostingRegressor\n",
    "from sklearn.svm import SVR\n",
    "from sklearn.ensemble import RandomForestRegressor\n",
    "from sklearn.model_selection import train_test_split\n",
    "from sklearn.metrics import mean_absolute_error"
   ]
  },
  {
   "cell_type": "code",
   "execution_count": 2,
   "metadata": {
    "colab": {},
    "colab_type": "code",
    "id": "e5LBG-sXz_AA"
   },
   "outputs": [],
   "source": [
    "import warnings\n",
    "warnings.filterwarnings('ignore')"
   ]
  },
  {
   "cell_type": "code",
   "execution_count": 3,
   "metadata": {
    "colab": {
     "base_uri": "https://localhost:8080/",
     "height": 34
    },
    "colab_type": "code",
    "executionInfo": {
     "elapsed": 696,
     "status": "ok",
     "timestamp": 1591537888204,
     "user": {
      "displayName": "Артем Аппалонов",
      "photoUrl": "https://lh3.googleusercontent.com/a-/AOh14Gjgbm6aTlWzcH_FO-MQ1AACkCOFA8cWOXGV6vPw=s64",
      "userId": "00355921924305036211"
     },
     "user_tz": -240
    },
    "id": "oKT9Vo2sz_AD",
    "outputId": "c26824de-26e2-4a84-87d2-254f79680d09"
   },
   "outputs": [
    {
     "name": "stdout",
     "output_type": "stream",
     "text": [
      "Populating the interactive namespace from numpy and matplotlib\n"
     ]
    }
   ],
   "source": [
    "%pylab inline"
   ]
  },
  {
   "cell_type": "markdown",
   "metadata": {
    "colab_type": "text",
    "id": "NwbOO8-Fz_AH"
   },
   "source": [
    "Посмотрим на данные:"
   ]
  },
  {
   "cell_type": "code",
   "execution_count": 4,
   "metadata": {
    "colab": {},
    "colab_type": "code",
    "id": "KIrflOlrz_AI"
   },
   "outputs": [],
   "source": [
    "train_data = pd.read_excel('train_t.xlsx')"
   ]
  },
  {
   "cell_type": "code",
   "execution_count": 5,
   "metadata": {
    "colab": {
     "base_uri": "https://localhost:8080/",
     "height": 411
    },
    "colab_type": "code",
    "executionInfo": {
     "elapsed": 1008,
     "status": "ok",
     "timestamp": 1591534208400,
     "user": {
      "displayName": "Артем Аппалонов",
      "photoUrl": "https://lh3.googleusercontent.com/a-/AOh14Gjgbm6aTlWzcH_FO-MQ1AACkCOFA8cWOXGV6vPw=s64",
      "userId": "00355921924305036211"
     },
     "user_tz": -240
    },
    "id": "_P0f8C8Dz_AL",
    "outputId": "047e07bc-1331-4a39-c977-73e47c14c971"
   },
   "outputs": [
    {
     "data": {
      "text/html": [
       "<div>\n",
       "<style scoped>\n",
       "    .dataframe tbody tr th:only-of-type {\n",
       "        vertical-align: middle;\n",
       "    }\n",
       "\n",
       "    .dataframe tbody tr th {\n",
       "        vertical-align: top;\n",
       "    }\n",
       "\n",
       "    .dataframe thead th {\n",
       "        text-align: right;\n",
       "    }\n",
       "</style>\n",
       "<table border=\"1\" class=\"dataframe\">\n",
       "  <thead>\n",
       "    <tr style=\"text-align: right;\">\n",
       "      <th></th>\n",
       "      <th>id</th>\n",
       "      <th>timestamp</th>\n",
       "      <th>площадь</th>\n",
       "      <th>жилая площадь</th>\n",
       "      <th>этаж</th>\n",
       "      <th>макс этажи</th>\n",
       "      <th>из чего изготовлен</th>\n",
       "      <th>год постройки</th>\n",
       "      <th>число комнат</th>\n",
       "      <th>площадь кухни</th>\n",
       "      <th>...</th>\n",
       "      <th>кол-во больничных коек на райоене</th>\n",
       "      <th>кол-во больниц на районе</th>\n",
       "      <th>число университетов в ТОП 20 университетов москвы</th>\n",
       "      <th>кол-во спортивных объектов на районе</th>\n",
       "      <th>кол-во школ допольнительного обучения на районе</th>\n",
       "      <th>есть ли культурный объект, входящий ТОП 25 достопримечательностей Москвы</th>\n",
       "      <th>кол-во культурных объектов, входящих в ТОП 25 объектов Москвы</th>\n",
       "      <th>Кол-во торговых центров на районе</th>\n",
       "      <th>Кол-во офисов на районе</th>\n",
       "      <th>цена_продажа</th>\n",
       "    </tr>\n",
       "  </thead>\n",
       "  <tbody>\n",
       "    <tr>\n",
       "      <th>0</th>\n",
       "      <td>1</td>\n",
       "      <td>2011-08-20</td>\n",
       "      <td>43</td>\n",
       "      <td>27.0</td>\n",
       "      <td>4.0</td>\n",
       "      <td>NaN</td>\n",
       "      <td>NaN</td>\n",
       "      <td>NaN</td>\n",
       "      <td>NaN</td>\n",
       "      <td>NaN</td>\n",
       "      <td>...</td>\n",
       "      <td>240.0</td>\n",
       "      <td>1</td>\n",
       "      <td>0</td>\n",
       "      <td>7</td>\n",
       "      <td>3</td>\n",
       "      <td>no</td>\n",
       "      <td>0</td>\n",
       "      <td>16</td>\n",
       "      <td>1</td>\n",
       "      <td>5850000</td>\n",
       "    </tr>\n",
       "    <tr>\n",
       "      <th>1</th>\n",
       "      <td>2</td>\n",
       "      <td>2011-08-23</td>\n",
       "      <td>34</td>\n",
       "      <td>19.0</td>\n",
       "      <td>3.0</td>\n",
       "      <td>NaN</td>\n",
       "      <td>NaN</td>\n",
       "      <td>NaN</td>\n",
       "      <td>NaN</td>\n",
       "      <td>NaN</td>\n",
       "      <td>...</td>\n",
       "      <td>229.0</td>\n",
       "      <td>1</td>\n",
       "      <td>0</td>\n",
       "      <td>6</td>\n",
       "      <td>1</td>\n",
       "      <td>yes</td>\n",
       "      <td>1</td>\n",
       "      <td>3</td>\n",
       "      <td>0</td>\n",
       "      <td>6000000</td>\n",
       "    </tr>\n",
       "    <tr>\n",
       "      <th>2</th>\n",
       "      <td>3</td>\n",
       "      <td>2011-08-27</td>\n",
       "      <td>43</td>\n",
       "      <td>29.0</td>\n",
       "      <td>2.0</td>\n",
       "      <td>NaN</td>\n",
       "      <td>NaN</td>\n",
       "      <td>NaN</td>\n",
       "      <td>NaN</td>\n",
       "      <td>NaN</td>\n",
       "      <td>...</td>\n",
       "      <td>1183.0</td>\n",
       "      <td>1</td>\n",
       "      <td>0</td>\n",
       "      <td>5</td>\n",
       "      <td>1</td>\n",
       "      <td>no</td>\n",
       "      <td>0</td>\n",
       "      <td>0</td>\n",
       "      <td>1</td>\n",
       "      <td>5700000</td>\n",
       "    </tr>\n",
       "    <tr>\n",
       "      <th>3</th>\n",
       "      <td>4</td>\n",
       "      <td>2011-09-01</td>\n",
       "      <td>89</td>\n",
       "      <td>50.0</td>\n",
       "      <td>9.0</td>\n",
       "      <td>NaN</td>\n",
       "      <td>NaN</td>\n",
       "      <td>NaN</td>\n",
       "      <td>NaN</td>\n",
       "      <td>NaN</td>\n",
       "      <td>...</td>\n",
       "      <td>NaN</td>\n",
       "      <td>1</td>\n",
       "      <td>0</td>\n",
       "      <td>17</td>\n",
       "      <td>6</td>\n",
       "      <td>no</td>\n",
       "      <td>0</td>\n",
       "      <td>11</td>\n",
       "      <td>4</td>\n",
       "      <td>13100000</td>\n",
       "    </tr>\n",
       "    <tr>\n",
       "      <th>4</th>\n",
       "      <td>5</td>\n",
       "      <td>2011-09-05</td>\n",
       "      <td>77</td>\n",
       "      <td>77.0</td>\n",
       "      <td>4.0</td>\n",
       "      <td>NaN</td>\n",
       "      <td>NaN</td>\n",
       "      <td>NaN</td>\n",
       "      <td>NaN</td>\n",
       "      <td>NaN</td>\n",
       "      <td>...</td>\n",
       "      <td>562.0</td>\n",
       "      <td>4</td>\n",
       "      <td>2</td>\n",
       "      <td>25</td>\n",
       "      <td>2</td>\n",
       "      <td>no</td>\n",
       "      <td>0</td>\n",
       "      <td>10</td>\n",
       "      <td>93</td>\n",
       "      <td>16331452</td>\n",
       "    </tr>\n",
       "  </tbody>\n",
       "</table>\n",
       "<p>5 rows × 34 columns</p>\n",
       "</div>"
      ],
      "text/plain": [
       "   id  timestamp  площадь  жилая площадь  этаж  макс этажи  \\\n",
       "0   1 2011-08-20       43           27.0   4.0         NaN   \n",
       "1   2 2011-08-23       34           19.0   3.0         NaN   \n",
       "2   3 2011-08-27       43           29.0   2.0         NaN   \n",
       "3   4 2011-09-01       89           50.0   9.0         NaN   \n",
       "4   5 2011-09-05       77           77.0   4.0         NaN   \n",
       "\n",
       "   из чего изготовлен  год постройки  число комнат  площадь кухни  ...  \\\n",
       "0                 NaN            NaN           NaN            NaN  ...   \n",
       "1                 NaN            NaN           NaN            NaN  ...   \n",
       "2                 NaN            NaN           NaN            NaN  ...   \n",
       "3                 NaN            NaN           NaN            NaN  ...   \n",
       "4                 NaN            NaN           NaN            NaN  ...   \n",
       "\n",
       "   кол-во больничных коек на райоене кол-во больниц на районе  \\\n",
       "0                              240.0                        1   \n",
       "1                              229.0                        1   \n",
       "2                             1183.0                        1   \n",
       "3                                NaN                        1   \n",
       "4                              562.0                        4   \n",
       "\n",
       "  число университетов в ТОП 20 университетов москвы  \\\n",
       "0                                                 0   \n",
       "1                                                 0   \n",
       "2                                                 0   \n",
       "3                                                 0   \n",
       "4                                                 2   \n",
       "\n",
       "   кол-во спортивных объектов на районе  \\\n",
       "0                                     7   \n",
       "1                                     6   \n",
       "2                                     5   \n",
       "3                                    17   \n",
       "4                                    25   \n",
       "\n",
       "   кол-во школ допольнительного обучения на районе  \\\n",
       "0                                                3   \n",
       "1                                                1   \n",
       "2                                                1   \n",
       "3                                                6   \n",
       "4                                                2   \n",
       "\n",
       "   есть ли культурный объект, входящий ТОП 25 достопримечательностей Москвы  \\\n",
       "0                                                 no                          \n",
       "1                                                yes                          \n",
       "2                                                 no                          \n",
       "3                                                 no                          \n",
       "4                                                 no                          \n",
       "\n",
       "   кол-во культурных объектов, входящих в ТОП 25 объектов Москвы  \\\n",
       "0                                                  0               \n",
       "1                                                  1               \n",
       "2                                                  0               \n",
       "3                                                  0               \n",
       "4                                                  0               \n",
       "\n",
       "   Кол-во торговых центров на районе  Кол-во офисов на районе  цена_продажа  \n",
       "0                                 16                        1       5850000  \n",
       "1                                  3                        0       6000000  \n",
       "2                                  0                        1       5700000  \n",
       "3                                 11                        4      13100000  \n",
       "4                                 10                       93      16331452  \n",
       "\n",
       "[5 rows x 34 columns]"
      ]
     },
     "execution_count": 5,
     "metadata": {},
     "output_type": "execute_result"
    }
   ],
   "source": [
    "train_data.head()"
   ]
  },
  {
   "cell_type": "markdown",
   "metadata": {
    "colab_type": "text",
    "id": "hUYdFLOJz_AO"
   },
   "source": [
    "Начнем анализировать данные. Вначале построим матрицу диаграмм рассеяния количественных признаков:"
   ]
  },
  {
   "cell_type": "code",
   "execution_count": 6,
   "metadata": {
    "colab": {
     "base_uri": "https://localhost:8080/",
     "height": 887
    },
    "colab_type": "code",
    "executionInfo": {
     "elapsed": 6596,
     "status": "ok",
     "timestamp": 1591534217671,
     "user": {
      "displayName": "Артем Аппалонов",
      "photoUrl": "https://lh3.googleusercontent.com/a-/AOh14Gjgbm6aTlWzcH_FO-MQ1AACkCOFA8cWOXGV6vPw=s64",
      "userId": "00355921924305036211"
     },
     "user_tz": -240
    },
    "id": "Xqz4xOcNz_AP",
    "outputId": "278f5445-a59f-49e5-bf06-5d6b0c10a2b4"
   },
   "outputs": [
    {
     "data": {
      "image/png": "[encoded data removed]",
      "text/plain": [
       "<Figure size 1080x1080 with 36 Axes>"
      ]
     },
     "metadata": {
      "needs_background": "light"
     },
     "output_type": "display_data"
    }
   ],
   "source": [
    "pd.plotting.scatter_matrix(train_data[['площадь', 'жилая площадь', 'этаж', 'Кол-во торговых центров на районе',\n",
    "                                'Кол-во офисов на районе','цена_продажа']], alpha=0.8, \n",
    "                                 figsize=(15, 15), diagonal='hist')\n",
    "pylab.show()"
   ]
  },
  {
   "cell_type": "markdown",
   "metadata": {
    "colab_type": "text",
    "id": "sK5cLylhz_AT"
   },
   "source": [
    "На основе данной матрицы уже можно уловить некоторые взаимосвязи: например, площадь и жилая площадь, которые фактически обладают линейной взаимосвязью (хотя это и очевидно, но убедиться лишний раз не мешает), поэтому из этих двух переменных при построении прогноза лучше будет оставить только одну, чтобы не допустить мультиколлинеарности. Для этого построим отдельные графики влияния каждого из этих признаков на цену, оставив тот, который влияет больше. Также можно наблюдать что-то похожее на линейную взаимосвязь между количеством торговых центров и количеством офисов на районе, проверим гипотезу о возможной зависимости этих двух признаков."
   ]
  },
  {
   "cell_type": "code",
   "execution_count": 7,
   "metadata": {
    "colab": {
     "base_uri": "https://localhost:8080/",
     "height": 457
    },
    "colab_type": "code",
    "executionInfo": {
     "elapsed": 1245,
     "status": "ok",
     "timestamp": 1591534227703,
     "user": {
      "displayName": "Артем Аппалонов",
      "photoUrl": "https://lh3.googleusercontent.com/a-/AOh14Gjgbm6aTlWzcH_FO-MQ1AACkCOFA8cWOXGV6vPw=s64",
      "userId": "00355921924305036211"
     },
     "user_tz": -240
    },
    "id": "WwtGRYfrz_AU",
    "outputId": "9962b786-fce1-4834-fb43-001282835683"
   },
   "outputs": [
    {
     "data": {
      "image/png": "[encoded data removed]",
      "text/plain": [
       "<Figure size 1152x504 with 2 Axes>"
      ]
     },
     "metadata": {
      "needs_background": "light"
     },
     "output_type": "display_data"
    }
   ],
   "source": [
    "plt.figure(figsize(16,7))\n",
    "plt.subplot(121)\n",
    "scatter(train_data['жилая площадь'], train_data['цена_продажа'])\n",
    "plt.xlabel('жилая площадь', fontsize=14)\n",
    "plt.ylabel('Цена продажи', fontsize=14)\n",
    "plt.subplot(122)\n",
    "scatter(train_data['площадь'], train_data['цена_продажа'])\n",
    "plt.xlabel('площадь', fontsize=14)\n",
    "plt.ylabel('Цена продажи', fontsize=14)\n",
    "pylab.show()"
   ]
  },
  {
   "cell_type": "markdown",
   "metadata": {
    "colab_type": "text",
    "id": "WgEe9Tz2z_AY"
   },
   "source": [
    "Одна точка выбивается из одного и из другого графика, уберем их, считая, что это выброс, и посмотрим ещё раз на графики"
   ]
  },
  {
   "cell_type": "code",
   "execution_count": 8,
   "metadata": {
    "colab": {},
    "colab_type": "code",
    "id": "YEIXTkyBz_AZ"
   },
   "outputs": [],
   "source": [
    "index1 = train_data[train_data['жилая площадь'] > 3000].index.tolist()\n",
    "index2 = train_data[train_data['площадь'] > 3000].index.tolist()\n",
    "index = index1 + index2"
   ]
  },
  {
   "cell_type": "code",
   "execution_count": 9,
   "metadata": {
    "colab": {},
    "colab_type": "code",
    "id": "kozbA9pvz_Ac"
   },
   "outputs": [],
   "source": [
    "train_data.drop(index, inplace=True)"
   ]
  },
  {
   "cell_type": "code",
   "execution_count": 10,
   "metadata": {
    "colab": {
     "base_uri": "https://localhost:8080/",
     "height": 886
    },
    "colab_type": "code",
    "executionInfo": {
     "elapsed": 1668,
     "status": "ok",
     "timestamp": 1591534234775,
     "user": {
      "displayName": "Артем Аппалонов",
      "photoUrl": "https://lh3.googleusercontent.com/a-/AOh14Gjgbm6aTlWzcH_FO-MQ1AACkCOFA8cWOXGV6vPw=s64",
      "userId": "00355921924305036211"
     },
     "user_tz": -240
    },
    "id": "_w4s8SKjz_Af",
    "outputId": "e560fe90-8368-4b3e-bc1d-48cefaa984c4"
   },
   "outputs": [
    {
     "data": {
      "image/png": "[encoded data removed]",
      "text/plain": [
       "<Figure size 1152x504 with 2 Axes>"
      ]
     },
     "metadata": {
      "needs_background": "light"
     },
     "output_type": "display_data"
    },
    {
     "data": {
      "image/png": "[encoded data removed]",
      "text/plain": [
       "<Figure size 1152x504 with 1 Axes>"
      ]
     },
     "metadata": {
      "needs_background": "light"
     },
     "output_type": "display_data"
    }
   ],
   "source": [
    "plt.figure(figsize(16,7))\n",
    "plt.subplot(131)\n",
    "scatter(train_data['жилая площадь'], train_data['цена_продажа'])\n",
    "plt.xlabel('жилая площадь', fontsize=14)\n",
    "plt.ylabel('Цена продажи', fontsize=14)\n",
    "plt.subplot(132)\n",
    "scatter(train_data['площадь'], train_data['цена_продажа'])\n",
    "plt.xlabel('площадь', fontsize=14)\n",
    "plt.ylabel('Цена продажи', fontsize=14)\n",
    "pylab.show()\n",
    "plt.subplot(133)\n",
    "scatter(train_data['площадь'], train_data['жилая площадь'])\n",
    "plt.xlabel('площадь', fontsize=14)\n",
    "plt.ylabel('жилая площадь', fontsize=14)\n",
    "pylab.show()"
   ]
  },
  {
   "cell_type": "markdown",
   "metadata": {
    "colab_type": "text",
    "id": "w_fjVmnPz_Ak"
   },
   "source": [
    "На графиках видно, что сохраняется линейная зависимость между признаками. Однако, можно обратить внимание, что на некоторых данных площадь квартиры имеет значение меньше, чем жилая площадь, а такого быть не может, так как жилая площадь входит в общую, эти данные надо брать. "
   ]
  },
  {
   "cell_type": "code",
   "execution_count": 11,
   "metadata": {
    "colab": {},
    "colab_type": "code",
    "id": "Y81x21cDz_Al"
   },
   "outputs": [],
   "source": [
    "index = train_data[train_data['жилая площадь'] > train_data['площадь']].index.tolist()\n",
    "train_data.drop(index, inplace=True)"
   ]
  },
  {
   "cell_type": "markdown",
   "metadata": {
    "colab_type": "text",
    "id": "5gV5FMDez_Ap"
   },
   "source": [
    "Так как, несмотря на линейную взаимосвязь, важно сохранить информацию как о площадь, так и о жилой площади, попробуем понизить размрность данных, преобразовав эти два признака в один с помощью метода главных компонент. Обратим внимание, что в некоторых строках в столбце \"жилая площадь\" имеются пропуски (причем более, чем в 5000 случаях):"
   ]
  },
  {
   "cell_type": "code",
   "execution_count": 12,
   "metadata": {
    "colab": {
     "base_uri": "https://localhost:8080/",
     "height": 34
    },
    "colab_type": "code",
    "executionInfo": {
     "elapsed": 1035,
     "status": "ok",
     "timestamp": 1591534240181,
     "user": {
      "displayName": "Артем Аппалонов",
      "photoUrl": "https://lh3.googleusercontent.com/a-/AOh14Gjgbm6aTlWzcH_FO-MQ1AACkCOFA8cWOXGV6vPw=s64",
      "userId": "00355921924305036211"
     },
     "user_tz": -240
    },
    "id": "Rl5eiciLz_Aq",
    "outputId": "d94fdc30-3ff0-4e27-9556-0d5ca2a29dc7",
    "scrolled": true
   },
   "outputs": [
    {
     "data": {
      "text/plain": [
       "5124"
      ]
     },
     "execution_count": 12,
     "metadata": {},
     "output_type": "execute_result"
    }
   ],
   "source": [
    "sum(train_data['жилая площадь'].isnull())"
   ]
  },
  {
   "cell_type": "markdown",
   "metadata": {
    "colab_type": "text",
    "id": "xPGIxQ8ez_As"
   },
   "source": [
    "Удалим их"
   ]
  },
  {
   "cell_type": "code",
   "execution_count": 13,
   "metadata": {
    "colab": {},
    "colab_type": "code",
    "id": "IoX0nCr7z_At"
   },
   "outputs": [],
   "source": [
    "index = train_data[train_data['жилая площадь'].isnull()].index.tolist()\n",
    "train_data.drop(index, inplace=True)"
   ]
  },
  {
   "cell_type": "markdown",
   "metadata": {
    "colab_type": "text",
    "id": "jktlz86bz_Aw"
   },
   "source": [
    "Предварительно обработаем пропуски в столбце \"число комнат\". Для тех, у кого будет совпадать жилая площадь или общая, будем заполнять ячейки таким же количеством комнат, остальные (если таковые останусться) - заменим медианным значением."
   ]
  },
  {
   "cell_type": "code",
   "execution_count": 14,
   "metadata": {
    "colab": {},
    "colab_type": "code",
    "id": "Mnn4QUOWz_Aw"
   },
   "outputs": [],
   "source": [
    "tmp_data1 = train_data.groupby(['жилая площадь']).median()\n",
    "for now1 in tmp_data1.index:\n",
    "    for now2 in train_data.index:\n",
    "        if train_data.loc[now2, 'жилая площадь'] == now1 and math.isnan(train_data.loc[now2, 'число комнат']):\n",
    "            train_data.loc[now2, 'число комнат'] = tmp_data1.loc[now1, 'число комнат']\n",
    "            \n",
    "tmp_data2 = train_data.groupby(['жилая площадь']).median()\n",
    "for now1 in tmp_data2.index:\n",
    "    for now2 in train_data.index:\n",
    "        if train_data.loc[now2, 'жилая площадь'] == now1 and math.isnan(train_data.loc[now2, 'число комнат']):\n",
    "            train_data.loc[now2, 'число комнат'] = tmp_data2.loc[now1, 'число комнат']\n",
    "\n",
    "train_data.dropna(axis='index', how='any', subset=['число комнат'], inplace=True)"
   ]
  },
  {
   "cell_type": "code",
   "execution_count": 15,
   "metadata": {
    "colab": {},
    "colab_type": "code",
    "id": "U8sV9PORz_Az"
   },
   "outputs": [],
   "source": [
    "X = np.vstack((np.array(train_data['площадь']), np.array(train_data['жилая площадь'])))"
   ]
  },
  {
   "cell_type": "code",
   "execution_count": 16,
   "metadata": {
    "colab": {},
    "colab_type": "code",
    "id": "d4djIFt8z_A1"
   },
   "outputs": [],
   "source": [
    "pca_1 = PCA(n_components=1)\n",
    "pca_train = pca_1.fit_transform(X.T)"
   ]
  },
  {
   "cell_type": "markdown",
   "metadata": {
    "colab_type": "text",
    "id": "MJh3V0cOz_A4"
   },
   "source": [
    "Посмотрим сколько информации от исходных данных несёт новая главная компонента"
   ]
  },
  {
   "cell_type": "code",
   "execution_count": 17,
   "metadata": {
    "colab": {
     "base_uri": "https://localhost:8080/",
     "height": 34
    },
    "colab_type": "code",
    "executionInfo": {
     "elapsed": 1011,
     "status": "ok",
     "timestamp": 1591534315662,
     "user": {
      "displayName": "Артем Аппалонов",
      "photoUrl": "https://lh3.googleusercontent.com/a-/AOh14Gjgbm6aTlWzcH_FO-MQ1AACkCOFA8cWOXGV6vPw=s64",
      "userId": "00355921924305036211"
     },
     "user_tz": -240
    },
    "id": "cnNLM_gLz_A5",
    "outputId": "61341fe2-0335-4c0a-b85f-264f1c332111"
   },
   "outputs": [
    {
     "data": {
      "text/plain": [
       "array([0.88296764])"
      ]
     },
     "execution_count": 17,
     "metadata": {},
     "output_type": "execute_result"
    }
   ],
   "source": [
    "pca_1.explained_variance_ratio_"
   ]
  },
  {
   "cell_type": "code",
   "execution_count": 18,
   "metadata": {
    "colab": {
     "base_uri": "https://localhost:8080/",
     "height": 457
    },
    "colab_type": "code",
    "executionInfo": {
     "elapsed": 1239,
     "status": "ok",
     "timestamp": 1591534317438,
     "user": {
      "displayName": "Артем Аппалонов",
      "photoUrl": "https://lh3.googleusercontent.com/a-/AOh14Gjgbm6aTlWzcH_FO-MQ1AACkCOFA8cWOXGV6vPw=s64",
      "userId": "00355921924305036211"
     },
     "user_tz": -240
    },
    "id": "soFdn9pZz_A7",
    "outputId": "3d19bf21-5d57-4f33-8337-db8fe5782306"
   },
   "outputs": [
    {
     "data": {
      "image/png": "[encoded data removed]",
      "text/plain": [
       "<Figure size 1152x504 with 1 Axes>"
      ]
     },
     "metadata": {
      "needs_background": "light"
     },
     "output_type": "display_data"
    }
   ],
   "source": [
    "scatter(pca_train, train_data['цена_продажа'])\n",
    "plt.xlabel('главная компонента', fontsize=14)\n",
    "plt.ylabel('Цена продажи', fontsize=14)\n",
    "pylab.show()"
   ]
  },
  {
   "cell_type": "markdown",
   "metadata": {
    "colab_type": "text",
    "id": "0utlLVDcz_A-"
   },
   "source": [
    "Заменим столбцы \"площадь\" и \"жилая площадь\" на новый получившийся"
   ]
  },
  {
   "cell_type": "code",
   "execution_count": 19,
   "metadata": {
    "colab": {},
    "colab_type": "code",
    "id": "8RxUtbBAz_A_"
   },
   "outputs": [],
   "source": [
    "train_data['площадь'] = pca_train"
   ]
  },
  {
   "cell_type": "code",
   "execution_count": 20,
   "metadata": {
    "colab": {},
    "colab_type": "code",
    "id": "8Sfu6hwQz_BB"
   },
   "outputs": [],
   "source": [
    "train_data.rename(columns={'площадь': 'главная компонента площади'}, inplace=True)\n",
    "train_data.drop(['жилая площадь'], axis='columns', inplace=True)\n",
    "train_data.drop(['площадь кухни'], axis='columns', inplace=True)"
   ]
  },
  {
   "cell_type": "code",
   "execution_count": 21,
   "metadata": {
    "colab": {
     "base_uri": "https://localhost:8080/",
     "height": 411
    },
    "colab_type": "code",
    "executionInfo": {
     "elapsed": 690,
     "status": "ok",
     "timestamp": 1591534322545,
     "user": {
      "displayName": "Артем Аппалонов",
      "photoUrl": "https://lh3.googleusercontent.com/a-/AOh14Gjgbm6aTlWzcH_FO-MQ1AACkCOFA8cWOXGV6vPw=s64",
      "userId": "00355921924305036211"
     },
     "user_tz": -240
    },
    "id": "d7Q0ve77z_BE",
    "outputId": "cc0815af-686d-40f0-f4c8-8823e70bbf7c"
   },
   "outputs": [
    {
     "data": {
      "text/html": [
       "<div>\n",
       "<style scoped>\n",
       "    .dataframe tbody tr th:only-of-type {\n",
       "        vertical-align: middle;\n",
       "    }\n",
       "\n",
       "    .dataframe tbody tr th {\n",
       "        vertical-align: top;\n",
       "    }\n",
       "\n",
       "    .dataframe thead th {\n",
       "        text-align: right;\n",
       "    }\n",
       "</style>\n",
       "<table border=\"1\" class=\"dataframe\">\n",
       "  <thead>\n",
       "    <tr style=\"text-align: right;\">\n",
       "      <th></th>\n",
       "      <th>id</th>\n",
       "      <th>timestamp</th>\n",
       "      <th>главная компонента площади</th>\n",
       "      <th>этаж</th>\n",
       "      <th>макс этажи</th>\n",
       "      <th>из чего изготовлен</th>\n",
       "      <th>год постройки</th>\n",
       "      <th>число комнат</th>\n",
       "      <th>состояние жилья</th>\n",
       "      <th>тип жилья</th>\n",
       "      <th>...</th>\n",
       "      <th>кол-во больничных коек на райоене</th>\n",
       "      <th>кол-во больниц на районе</th>\n",
       "      <th>число университетов в ТОП 20 университетов москвы</th>\n",
       "      <th>кол-во спортивных объектов на районе</th>\n",
       "      <th>кол-во школ допольнительного обучения на районе</th>\n",
       "      <th>есть ли культурный объект, входящий ТОП 25 достопримечательностей Москвы</th>\n",
       "      <th>кол-во культурных объектов, входящих в ТОП 25 объектов Москвы</th>\n",
       "      <th>Кол-во торговых центров на районе</th>\n",
       "      <th>Кол-во офисов на районе</th>\n",
       "      <th>цена_продажа</th>\n",
       "    </tr>\n",
       "  </thead>\n",
       "  <tbody>\n",
       "    <tr>\n",
       "      <th>0</th>\n",
       "      <td>1</td>\n",
       "      <td>2011-08-20</td>\n",
       "      <td>-11.195782</td>\n",
       "      <td>4.0</td>\n",
       "      <td>NaN</td>\n",
       "      <td>NaN</td>\n",
       "      <td>NaN</td>\n",
       "      <td>2.0</td>\n",
       "      <td>NaN</td>\n",
       "      <td>Investment</td>\n",
       "      <td>...</td>\n",
       "      <td>240.0</td>\n",
       "      <td>1</td>\n",
       "      <td>0</td>\n",
       "      <td>7</td>\n",
       "      <td>3</td>\n",
       "      <td>no</td>\n",
       "      <td>0</td>\n",
       "      <td>16</td>\n",
       "      <td>1</td>\n",
       "      <td>5850000</td>\n",
       "    </tr>\n",
       "    <tr>\n",
       "      <th>1</th>\n",
       "      <td>2</td>\n",
       "      <td>2011-08-23</td>\n",
       "      <td>-23.212333</td>\n",
       "      <td>3.0</td>\n",
       "      <td>NaN</td>\n",
       "      <td>NaN</td>\n",
       "      <td>NaN</td>\n",
       "      <td>1.0</td>\n",
       "      <td>NaN</td>\n",
       "      <td>Investment</td>\n",
       "      <td>...</td>\n",
       "      <td>229.0</td>\n",
       "      <td>1</td>\n",
       "      <td>0</td>\n",
       "      <td>6</td>\n",
       "      <td>1</td>\n",
       "      <td>yes</td>\n",
       "      <td>1</td>\n",
       "      <td>3</td>\n",
       "      <td>0</td>\n",
       "      <td>6000000</td>\n",
       "    </tr>\n",
       "    <tr>\n",
       "      <th>2</th>\n",
       "      <td>3</td>\n",
       "      <td>2011-08-27</td>\n",
       "      <td>-9.966175</td>\n",
       "      <td>2.0</td>\n",
       "      <td>NaN</td>\n",
       "      <td>NaN</td>\n",
       "      <td>NaN</td>\n",
       "      <td>2.0</td>\n",
       "      <td>NaN</td>\n",
       "      <td>Investment</td>\n",
       "      <td>...</td>\n",
       "      <td>1183.0</td>\n",
       "      <td>1</td>\n",
       "      <td>0</td>\n",
       "      <td>5</td>\n",
       "      <td>1</td>\n",
       "      <td>no</td>\n",
       "      <td>0</td>\n",
       "      <td>0</td>\n",
       "      <td>1</td>\n",
       "      <td>5700000</td>\n",
       "    </tr>\n",
       "    <tr>\n",
       "      <th>3</th>\n",
       "      <td>4</td>\n",
       "      <td>2011-09-01</td>\n",
       "      <td>39.223992</td>\n",
       "      <td>9.0</td>\n",
       "      <td>NaN</td>\n",
       "      <td>NaN</td>\n",
       "      <td>NaN</td>\n",
       "      <td>3.0</td>\n",
       "      <td>NaN</td>\n",
       "      <td>Investment</td>\n",
       "      <td>...</td>\n",
       "      <td>NaN</td>\n",
       "      <td>1</td>\n",
       "      <td>0</td>\n",
       "      <td>17</td>\n",
       "      <td>6</td>\n",
       "      <td>no</td>\n",
       "      <td>0</td>\n",
       "      <td>11</td>\n",
       "      <td>4</td>\n",
       "      <td>13100000</td>\n",
       "    </tr>\n",
       "    <tr>\n",
       "      <th>4</th>\n",
       "      <td>5</td>\n",
       "      <td>2011-09-05</td>\n",
       "      <td>46.359526</td>\n",
       "      <td>4.0</td>\n",
       "      <td>NaN</td>\n",
       "      <td>NaN</td>\n",
       "      <td>NaN</td>\n",
       "      <td>3.0</td>\n",
       "      <td>NaN</td>\n",
       "      <td>Investment</td>\n",
       "      <td>...</td>\n",
       "      <td>562.0</td>\n",
       "      <td>4</td>\n",
       "      <td>2</td>\n",
       "      <td>25</td>\n",
       "      <td>2</td>\n",
       "      <td>no</td>\n",
       "      <td>0</td>\n",
       "      <td>10</td>\n",
       "      <td>93</td>\n",
       "      <td>16331452</td>\n",
       "    </tr>\n",
       "  </tbody>\n",
       "</table>\n",
       "<p>5 rows × 32 columns</p>\n",
       "</div>"
      ],
      "text/plain": [
       "   id  timestamp  главная компонента площади  этаж  макс этажи  \\\n",
       "0   1 2011-08-20                  -11.195782   4.0         NaN   \n",
       "1   2 2011-08-23                  -23.212333   3.0         NaN   \n",
       "2   3 2011-08-27                   -9.966175   2.0         NaN   \n",
       "3   4 2011-09-01                   39.223992   9.0         NaN   \n",
       "4   5 2011-09-05                   46.359526   4.0         NaN   \n",
       "\n",
       "   из чего изготовлен  год постройки  число комнат  состояние жилья  \\\n",
       "0                 NaN            NaN           2.0              NaN   \n",
       "1                 NaN            NaN           1.0              NaN   \n",
       "2                 NaN            NaN           2.0              NaN   \n",
       "3                 NaN            NaN           3.0              NaN   \n",
       "4                 NaN            NaN           3.0              NaN   \n",
       "\n",
       "    тип жилья  ... кол-во больничных коек на райоене  \\\n",
       "0  Investment  ...                             240.0   \n",
       "1  Investment  ...                             229.0   \n",
       "2  Investment  ...                            1183.0   \n",
       "3  Investment  ...                               NaN   \n",
       "4  Investment  ...                             562.0   \n",
       "\n",
       "   кол-во больниц на районе  \\\n",
       "0                         1   \n",
       "1                         1   \n",
       "2                         1   \n",
       "3                         1   \n",
       "4                         4   \n",
       "\n",
       "   число университетов в ТОП 20 университетов москвы  \\\n",
       "0                                                  0   \n",
       "1                                                  0   \n",
       "2                                                  0   \n",
       "3                                                  0   \n",
       "4                                                  2   \n",
       "\n",
       "   кол-во спортивных объектов на районе  \\\n",
       "0                                     7   \n",
       "1                                     6   \n",
       "2                                     5   \n",
       "3                                    17   \n",
       "4                                    25   \n",
       "\n",
       "   кол-во школ допольнительного обучения на районе  \\\n",
       "0                                                3   \n",
       "1                                                1   \n",
       "2                                                1   \n",
       "3                                                6   \n",
       "4                                                2   \n",
       "\n",
       "   есть ли культурный объект, входящий ТОП 25 достопримечательностей Москвы  \\\n",
       "0                                                 no                          \n",
       "1                                                yes                          \n",
       "2                                                 no                          \n",
       "3                                                 no                          \n",
       "4                                                 no                          \n",
       "\n",
       "   кол-во культурных объектов, входящих в ТОП 25 объектов Москвы  \\\n",
       "0                                                  0               \n",
       "1                                                  1               \n",
       "2                                                  0               \n",
       "3                                                  0               \n",
       "4                                                  0               \n",
       "\n",
       "   Кол-во торговых центров на районе  Кол-во офисов на районе  цена_продажа  \n",
       "0                                 16                        1       5850000  \n",
       "1                                  3                        0       6000000  \n",
       "2                                  0                        1       5700000  \n",
       "3                                 11                        4      13100000  \n",
       "4                                 10                       93      16331452  \n",
       "\n",
       "[5 rows x 32 columns]"
      ]
     },
     "execution_count": 21,
     "metadata": {},
     "output_type": "execute_result"
    }
   ],
   "source": [
    "train_data.head()"
   ]
  },
  {
   "cell_type": "markdown",
   "metadata": {
    "colab_type": "text",
    "id": "Y4ultmL0z_BG"
   },
   "source": [
    "Построим диаграмму рассеяния столбцов \"Кол-во торговых центров на районе\" и \"Кол-во офисов на районе\":"
   ]
  },
  {
   "cell_type": "code",
   "execution_count": 22,
   "metadata": {
    "colab": {
     "base_uri": "https://localhost:8080/",
     "height": 446
    },
    "colab_type": "code",
    "executionInfo": {
     "elapsed": 1014,
     "status": "ok",
     "timestamp": 1591534324958,
     "user": {
      "displayName": "Артем Аппалонов",
      "photoUrl": "https://lh3.googleusercontent.com/a-/AOh14Gjgbm6aTlWzcH_FO-MQ1AACkCOFA8cWOXGV6vPw=s64",
      "userId": "00355921924305036211"
     },
     "user_tz": -240
    },
    "id": "1NFLzzIUz_BH",
    "outputId": "8980c047-a641-4701-9d20-ba406eab484c"
   },
   "outputs": [
    {
     "data": {
      "image/png": "[encoded data removed]",
      "text/plain": [
       "<Figure size 1152x504 with 1 Axes>"
      ]
     },
     "metadata": {
      "needs_background": "light"
     },
     "output_type": "display_data"
    }
   ],
   "source": [
    "scatter(train_data['Кол-во торговых центров на районе'], train_data['Кол-во офисов на районе'])\n",
    "plt.xlabel('Кол-во торговых центров на районе', fontsize=14)\n",
    "plt.ylabel('Кол-во офисов на районе', fontsize=14)\n",
    "pylab.show()"
   ]
  },
  {
   "cell_type": "markdown",
   "metadata": {
    "colab_type": "text",
    "id": "0axOthLyz_BK"
   },
   "source": [
    "Глядя на график нельзя отбросить вариант с тем, что имеется зависимость. Проверим гипотезу о наличии линейной взаимосвязи с помощью критерия Стьюдента:"
   ]
  },
  {
   "cell_type": "code",
   "execution_count": 23,
   "metadata": {
    "colab": {
     "base_uri": "https://localhost:8080/",
     "height": 111
    },
    "colab_type": "code",
    "executionInfo": {
     "elapsed": 936,
     "status": "ok",
     "timestamp": 1591534327357,
     "user": {
      "displayName": "Артем Аппалонов",
      "photoUrl": "https://lh3.googleusercontent.com/a-/AOh14Gjgbm6aTlWzcH_FO-MQ1AACkCOFA8cWOXGV6vPw=s64",
      "userId": "00355921924305036211"
     },
     "user_tz": -240
    },
    "id": "4nxY2xRqz_BL",
    "outputId": "347d5f03-b10b-447a-8325-ff5ce71a422b"
   },
   "outputs": [
    {
     "data": {
      "text/html": [
       "<div>\n",
       "<style scoped>\n",
       "    .dataframe tbody tr th:only-of-type {\n",
       "        vertical-align: middle;\n",
       "    }\n",
       "\n",
       "    .dataframe tbody tr th {\n",
       "        vertical-align: top;\n",
       "    }\n",
       "\n",
       "    .dataframe thead th {\n",
       "        text-align: right;\n",
       "    }\n",
       "</style>\n",
       "<table border=\"1\" class=\"dataframe\">\n",
       "  <thead>\n",
       "    <tr style=\"text-align: right;\">\n",
       "      <th></th>\n",
       "      <th>Кол-во торговых центров на районе</th>\n",
       "      <th>Кол-во офисов на районе</th>\n",
       "    </tr>\n",
       "  </thead>\n",
       "  <tbody>\n",
       "    <tr>\n",
       "      <th>Кол-во торговых центров на районе</th>\n",
       "      <td>1.000000</td>\n",
       "      <td>0.523702</td>\n",
       "    </tr>\n",
       "    <tr>\n",
       "      <th>Кол-во офисов на районе</th>\n",
       "      <td>0.523702</td>\n",
       "      <td>1.000000</td>\n",
       "    </tr>\n",
       "  </tbody>\n",
       "</table>\n",
       "</div>"
      ],
      "text/plain": [
       "                                   Кол-во торговых центров на районе  \\\n",
       "Кол-во торговых центров на районе                           1.000000   \n",
       "Кол-во офисов на районе                                     0.523702   \n",
       "\n",
       "                                   Кол-во офисов на районе  \n",
       "Кол-во торговых центров на районе                 0.523702  \n",
       "Кол-во офисов на районе                           1.000000  "
      ]
     },
     "execution_count": 23,
     "metadata": {},
     "output_type": "execute_result"
    }
   ],
   "source": [
    "train_data[['Кол-во торговых центров на районе', 'Кол-во офисов на районе']].corr()"
   ]
  },
  {
   "cell_type": "code",
   "execution_count": 24,
   "metadata": {
    "colab": {
     "base_uri": "https://localhost:8080/",
     "height": 51
    },
    "colab_type": "code",
    "executionInfo": {
     "elapsed": 1187,
     "status": "ok",
     "timestamp": 1591534329122,
     "user": {
      "displayName": "Артем Аппалонов",
      "photoUrl": "https://lh3.googleusercontent.com/a-/AOh14Gjgbm6aTlWzcH_FO-MQ1AACkCOFA8cWOXGV6vPw=s64",
      "userId": "00355921924305036211"
     },
     "user_tz": -240
    },
    "id": "sPpsNQ6tz_BP",
    "outputId": "1c8d8bc3-799e-480b-d7f7-0e08243f2762"
   },
   "outputs": [
    {
     "name": "stdout",
     "output_type": "stream",
     "text": [
      "stat=0.524, p=0.000\n",
      "Probably dependent\n"
     ]
    }
   ],
   "source": [
    "stat, p = pearsonr(train_data['Кол-во офисов на районе'], train_data['Кол-во торговых центров на районе'])\n",
    "print('stat=%.3f, p=%.3f' % (stat, p))\n",
    "if p > 0.05:\n",
    "    print('Probably independent')\n",
    "else:\n",
    "    print('Probably dependent')"
   ]
  },
  {
   "cell_type": "markdown",
   "metadata": {
    "colab_type": "text",
    "id": "4EGst3P1z_BU"
   },
   "source": [
    "Достигаемый уровень значимости много меньше 0.05, следовательно, отвергаем критерий о независимости двух величин. Попробуем из них также с помошью метода главных компонент сделать одну:"
   ]
  },
  {
   "cell_type": "code",
   "execution_count": 25,
   "metadata": {
    "colab": {},
    "colab_type": "code",
    "id": "HDNrHSkYz_BU"
   },
   "outputs": [],
   "source": [
    "X = np.vstack((np.array(train_data['Кол-во офисов на районе']), np.array(train_data['Кол-во торговых центров на районе'])))"
   ]
  },
  {
   "cell_type": "code",
   "execution_count": 26,
   "metadata": {
    "colab": {},
    "colab_type": "code",
    "id": "wWyj6g3tz_BX"
   },
   "outputs": [],
   "source": [
    "pca2 = PCA(n_components=1)\n",
    "pca_train2 = pca2.fit_transform(X.T)"
   ]
  },
  {
   "cell_type": "code",
   "execution_count": 27,
   "metadata": {
    "colab": {},
    "colab_type": "code",
    "id": "1BvfQ1ISz_Bb"
   },
   "outputs": [],
   "source": [
    "train_data['Кол-во офисов на районе'] = pca_train2"
   ]
  },
  {
   "cell_type": "code",
   "execution_count": 28,
   "metadata": {
    "colab": {},
    "colab_type": "code",
    "id": "AOcV1hEbz_Bd"
   },
   "outputs": [],
   "source": [
    "train_data.rename(columns={'Кол-во офисов на районе': 'главная компонента тц и офисов'}, inplace=True)\n",
    "train_data.drop(['Кол-во торговых центров на районе'], axis='columns', inplace=True)"
   ]
  },
  {
   "cell_type": "markdown",
   "metadata": {
    "colab_type": "text",
    "id": "N1EAYYajz_Bj"
   },
   "source": [
    "Теперь поработаем с категориальными признаками, а именно с районом. Район будем кодировать средней ценой (по данному району). "
   ]
  },
  {
   "cell_type": "code",
   "execution_count": 29,
   "metadata": {
    "colab": {},
    "colab_type": "code",
    "id": "9bqpRWW2z_Bk"
   },
   "outputs": [],
   "source": [
    "area = train_data.groupby(['район']).mean()"
   ]
  },
  {
   "cell_type": "code",
   "execution_count": 30,
   "metadata": {
    "colab": {},
    "colab_type": "code",
    "id": "nfUST3uCz_Bn",
    "scrolled": false
   },
   "outputs": [],
   "source": [
    "# функция возвращает значения нового признака\n",
    "def code_mean(data, cat_feature, real_feature):\n",
    "    return (data[cat_feature].map(data.groupby(cat_feature)[real_feature].mean()))\n",
    "\n",
    "train_data['средняя_цена_по_району'] = code_mean(train_data, 'район', 'цена_продажа')"
   ]
  },
  {
   "cell_type": "markdown",
   "metadata": {
    "colab_type": "text",
    "id": "3dVJ1B1jz_Bs"
   },
   "source": [
    "Обрати внимание, что в двух соседних колонках \"есть ли культурный объект, входящий ТОП 25 достопримечательностей Москвы\" и \"кол-во культурных объектов, входящих в ТОП 25 объектов Москвы\" отображена одна и та же информация, но в правой она представлена ещё и численно, что, безусловно, удобнее для алгоритмов машинного обучения. Поэтому \"есть ли культурный объект, входящий ТОП 25 достопримечательностей Москвы\" можно удалить."
   ]
  },
  {
   "cell_type": "code",
   "execution_count": 31,
   "metadata": {
    "colab": {},
    "colab_type": "code",
    "id": "DcVLPXUYz_Bs"
   },
   "outputs": [],
   "source": [
    "train_data.drop(['есть ли культурный объект, входящий ТОП 25 достопримечательностей Москвы'], axis='columns', inplace=True)"
   ]
  },
  {
   "cell_type": "markdown",
   "metadata": {
    "colab_type": "text",
    "id": "LCPqJ5sjz_Bv"
   },
   "source": [
    "В столбце \"из чего изготовлен\" есть очень много пропусков, однако это очень важный показатель для расчета стоимость квартиры, поэтому заменим все неизвестные значения на 0 (считаем как отдельную категория):"
   ]
  },
  {
   "cell_type": "code",
   "execution_count": 32,
   "metadata": {
    "colab": {},
    "colab_type": "code",
    "id": "GcPGyLfUz_Bv"
   },
   "outputs": [],
   "source": [
    "train_data['из чего изготовлен'].fillna(0, inplace=True)"
   ]
  },
  {
   "cell_type": "markdown",
   "metadata": {
    "colab_type": "text",
    "id": "A6z_-5lTz_B1"
   },
   "source": [
    "Теперь посмотрим на количество различных значений, который принимает столбец \"тип жилья\":"
   ]
  },
  {
   "cell_type": "code",
   "execution_count": 33,
   "metadata": {
    "colab": {
     "base_uri": "https://localhost:8080/",
     "height": 68
    },
    "colab_type": "code",
    "executionInfo": {
     "elapsed": 1011,
     "status": "ok",
     "timestamp": 1591534350257,
     "user": {
      "displayName": "Артем Аппалонов",
      "photoUrl": "https://lh3.googleusercontent.com/a-/AOh14Gjgbm6aTlWzcH_FO-MQ1AACkCOFA8cWOXGV6vPw=s64",
      "userId": "00355921924305036211"
     },
     "user_tz": -240
    },
    "id": "36WvxP-Oz_B2",
    "outputId": "52f312f0-feb5-4308-804c-18e70d855cf7"
   },
   "outputs": [
    {
     "data": {
      "text/plain": [
       "Investment       16277\n",
       "OwnerOccupier     3533\n",
       "Name: тип жилья, dtype: int64"
      ]
     },
     "execution_count": 33,
     "metadata": {},
     "output_type": "execute_result"
    }
   ],
   "source": [
    "train_data['тип жилья'].value_counts()"
   ]
  },
  {
   "cell_type": "markdown",
   "metadata": {
    "colab_type": "text",
    "id": "CRoDfzDDz_B5"
   },
   "source": [
    "Только два значения. Тогда можно сделать данный признак бинарным: \n",
    "\n",
    "- Investment - \"1\"\n",
    "\n",
    "- OwnerOccupier - \"0\" "
   ]
  },
  {
   "cell_type": "code",
   "execution_count": 34,
   "metadata": {
    "colab": {},
    "colab_type": "code",
    "id": "EW0AQAQmz_B6"
   },
   "outputs": [],
   "source": [
    "train_data['тип жилья'] = train_data['тип жилья'].map({'Investment': 1, 'OwnerOccupier': 0}) "
   ]
  },
  {
   "cell_type": "markdown",
   "metadata": {
    "colab_type": "text",
    "id": "id_8tihBz_B-"
   },
   "source": [
    "Посмотрим на значения столбца \"состояние жилья\":"
   ]
  },
  {
   "cell_type": "code",
   "execution_count": 35,
   "metadata": {
    "colab": {
     "base_uri": "https://localhost:8080/",
     "height": 119
    },
    "colab_type": "code",
    "executionInfo": {
     "elapsed": 936,
     "status": "ok",
     "timestamp": 1591534355449,
     "user": {
      "displayName": "Артем Аппалонов",
      "photoUrl": "https://lh3.googleusercontent.com/a-/AOh14Gjgbm6aTlWzcH_FO-MQ1AACkCOFA8cWOXGV6vPw=s64",
      "userId": "00355921924305036211"
     },
     "user_tz": -240
    },
    "id": "fTaQvwvoz_B-",
    "outputId": "f341273d-2dc9-45be-8159-148de1aa7ece"
   },
   "outputs": [
    {
     "data": {
      "text/plain": [
       "2.0     4377\n",
       "3.0     4352\n",
       "1.0     2068\n",
       "4.0      334\n",
       "33.0       1\n",
       "Name: состояние жилья, dtype: int64"
      ]
     },
     "execution_count": 35,
     "metadata": {},
     "output_type": "execute_result"
    }
   ],
   "source": [
    "train_data['состояние жилья'].value_counts()"
   ]
  },
  {
   "cell_type": "code",
   "execution_count": 36,
   "metadata": {
    "colab": {
     "base_uri": "https://localhost:8080/",
     "height": 34
    },
    "colab_type": "code",
    "executionInfo": {
     "elapsed": 1076,
     "status": "ok",
     "timestamp": 1591534356954,
     "user": {
      "displayName": "Артем Аппалонов",
      "photoUrl": "https://lh3.googleusercontent.com/a-/AOh14Gjgbm6aTlWzcH_FO-MQ1AACkCOFA8cWOXGV6vPw=s64",
      "userId": "00355921924305036211"
     },
     "user_tz": -240
    },
    "id": "WgTFvmsrz_CC",
    "outputId": "46c279e6-f2a9-4ca1-f70f-6820dae5db90"
   },
   "outputs": [
    {
     "data": {
      "text/plain": [
       "8678"
      ]
     },
     "execution_count": 36,
     "metadata": {},
     "output_type": "execute_result"
    }
   ],
   "source": [
    "sum(train_data['состояние жилья'].isna())"
   ]
  },
  {
   "cell_type": "markdown",
   "metadata": {
    "colab_type": "text",
    "id": "_GMwM-2_z_CJ"
   },
   "source": [
    "Видно, что много данных пропущено, к тому же есть выброс, у которого значение состояния жилья равно 33.0. Удалим этот выброс из таблицы, а на месте пропусков попробуем поставить медианное значение состояния жилья, присущее конкретному району."
   ]
  },
  {
   "cell_type": "code",
   "execution_count": 37,
   "metadata": {
    "colab": {},
    "colab_type": "code",
    "id": "PBPDQerSz_CK"
   },
   "outputs": [],
   "source": [
    "outlier = train_data[train_data['состояние жилья'] == 33].index\n",
    "train_data.drop(outlier, axis='index', inplace=True)\n",
    "tmp_data = train_data.groupby(['средняя_цена_по_району']).median()"
   ]
  },
  {
   "cell_type": "code",
   "execution_count": 38,
   "metadata": {
    "colab": {},
    "colab_type": "code",
    "id": "gdAf1K1Uz_CM"
   },
   "outputs": [],
   "source": [
    "for now1 in tmp_data.index:\n",
    "    for now2 in train_data.index:\n",
    "        if train_data.loc[now2, 'средняя_цена_по_району'] == now1 and math.isnan(train_data.loc[now2, 'состояние жилья']):\n",
    "            train_data.loc[now2, 'состояние жилья'] = tmp_data.loc[now1, 'состояние жилья']"
   ]
  },
  {
   "cell_type": "code",
   "execution_count": 39,
   "metadata": {
    "colab": {
     "base_uri": "https://localhost:8080/",
     "height": 34
    },
    "colab_type": "code",
    "executionInfo": {
     "elapsed": 924,
     "status": "ok",
     "timestamp": 1591534396771,
     "user": {
      "displayName": "Артем Аппалонов",
      "photoUrl": "https://lh3.googleusercontent.com/a-/AOh14Gjgbm6aTlWzcH_FO-MQ1AACkCOFA8cWOXGV6vPw=s64",
      "userId": "00355921924305036211"
     },
     "user_tz": -240
    },
    "id": "PYPLeSRFz_CR",
    "outputId": "ed2d9bb3-6c55-49b1-e144-7ddd841490c5"
   },
   "outputs": [
    {
     "data": {
      "text/plain": [
       "1"
      ]
     },
     "execution_count": 39,
     "metadata": {},
     "output_type": "execute_result"
    }
   ],
   "source": [
    "sum(train_data['состояние жилья'].isna())"
   ]
  },
  {
   "cell_type": "markdown",
   "metadata": {
    "colab_type": "text",
    "id": "Gyu69k0sz_CU"
   },
   "source": [
    "Все ещё остались незаполненные значения, тогда просто заменим их общими медианами:"
   ]
  },
  {
   "cell_type": "code",
   "execution_count": 40,
   "metadata": {
    "colab": {},
    "colab_type": "code",
    "id": "Ivv1sBIfz_CU"
   },
   "outputs": [],
   "source": [
    "train_data['состояние жилья'].fillna(train_data['состояние жилья'].median(), inplace=True)\n",
    "train_data['состояние жилья'] = np.floor(train_data['состояние жилья'])"
   ]
  },
  {
   "cell_type": "markdown",
   "metadata": {
    "colab_type": "text",
    "id": "u6cWG0qDz_Cb"
   },
   "source": [
    "Посмотрим как влияет год постройки:"
   ]
  },
  {
   "cell_type": "code",
   "execution_count": 41,
   "metadata": {
    "colab": {
     "base_uri": "https://localhost:8080/",
     "height": 886
    },
    "colab_type": "code",
    "executionInfo": {
     "elapsed": 1157,
     "status": "ok",
     "timestamp": 1591534402457,
     "user": {
      "displayName": "Артем Аппалонов",
      "photoUrl": "https://lh3.googleusercontent.com/a-/AOh14Gjgbm6aTlWzcH_FO-MQ1AACkCOFA8cWOXGV6vPw=s64",
      "userId": "00355921924305036211"
     },
     "user_tz": -240
    },
    "id": "VnGUnyh8z_Cb",
    "outputId": "b997d2dd-80c8-44fc-e56e-c53eaf509335"
   },
   "outputs": [
    {
     "data": {
      "image/png": "[encoded data removed]",
      "text/plain": [
       "<Figure size 1152x504 with 1 Axes>"
      ]
     },
     "metadata": {
      "needs_background": "light"
     },
     "output_type": "display_data"
    },
    {
     "data": {
      "image/png": "[encoded data removed]",
      "text/plain": [
       "<Figure size 1152x504 with 1 Axes>"
      ]
     },
     "metadata": {
      "needs_background": "light"
     },
     "output_type": "display_data"
    }
   ],
   "source": [
    "plt.figure(figsize(16,7))\n",
    "plt.subplot(121)\n",
    "scatter(train_data['состояние жилья'], train_data['год постройки'])\n",
    "plt.xlabel('состояние жилья', fontsize=14)\n",
    "plt.ylabel('год постройки', fontsize=14)\n",
    "pylab.show()\n",
    "plt.subplot(122)\n",
    "scatter(train_data['год постройки'], train_data['цена_продажа'])\n",
    "plt.xlabel('год постройки', fontsize=14)\n",
    "plt.ylabel('Цена продажи', fontsize=14)\n",
    "pylab.show()"
   ]
  },
  {
   "cell_type": "markdown",
   "metadata": {
    "colab_type": "text",
    "id": "MX_VmQdxz_Cd"
   },
   "source": [
    "Так как учли состояние, то год постройки можно не учитывать (к тому же в нем достаточно много пропусков, а те данные), однако, прежде чем удалять весь столбец, удалим строку с выбросом, соответствующей 5000 году:"
   ]
  },
  {
   "cell_type": "code",
   "execution_count": 42,
   "metadata": {
    "colab": {},
    "colab_type": "code",
    "id": "aAJbQpQYz_Ce"
   },
   "outputs": [],
   "source": [
    "outlier = train_data[train_data['год постройки'] > 2020].index\n",
    "train_data.drop(outlier, inplace=True)\n",
    "train_data.drop(['год постройки'], axis='columns', inplace=True)"
   ]
  },
  {
   "cell_type": "markdown",
   "metadata": {
    "colab_type": "text",
    "id": "egoNeVHFz_Cg"
   },
   "source": [
    "Важными показателями в таблице являются также количество школ и детских садов, но не их абсолютное количество, а относительная величина - количество школьников/дошкольников на одну школу или один десткий сад. Преобразуем четыре этих столбца в два:"
   ]
  },
  {
   "cell_type": "code",
   "execution_count": 43,
   "metadata": {
    "colab": {},
    "colab_type": "code",
    "id": "7LTKRlKvz_Ci"
   },
   "outputs": [],
   "source": [
    "train_data['количество дошкольников на 1 дет сад'] = train_data['кол-во дошкольников'] / train_data['вместимость дет.садов']\n",
    "train_data['количество школьников на 1 школу'] = train_data['кол-во школьников'] / train_data['вместимость школ']\n",
    "train_data.drop(['кол-во дошкольников'], axis='columns', inplace=True)\n",
    "train_data.drop(['кол-во школьников'], axis='columns', inplace=True)\n",
    "train_data.drop(['вместимость дет.садов'], axis='columns', inplace=True)\n",
    "train_data.drop(['вместимость школ'], axis='columns', inplace=True)\n",
    "train_data.drop(['кол-во дет.садов на районе'], axis='columns', inplace=True)\n",
    "train_data.drop(['кол-во школ на районе'], axis='columns', inplace=True)"
   ]
  },
  {
   "cell_type": "markdown",
   "metadata": {
    "colab_type": "text",
    "id": "m7aw3NYmz_Ck"
   },
   "source": [
    "Проверим, не осталось ли пропусков в данных:"
   ]
  },
  {
   "cell_type": "code",
   "execution_count": 44,
   "metadata": {
    "colab": {
     "base_uri": "https://localhost:8080/",
     "height": 51
    },
    "colab_type": "code",
    "executionInfo": {
     "elapsed": 1015,
     "status": "ok",
     "timestamp": 1591534411798,
     "user": {
      "displayName": "Артем Аппалонов",
      "photoUrl": "https://lh3.googleusercontent.com/a-/AOh14Gjgbm6aTlWzcH_FO-MQ1AACkCOFA8cWOXGV6vPw=s64",
      "userId": "00355921924305036211"
     },
     "user_tz": -240
    },
    "id": "ALh0CvVgz_Cl",
    "outputId": "a0695eb2-72f8-4d4f-a7d1-05488683d211"
   },
   "outputs": [
    {
     "name": "stdout",
     "output_type": "stream",
     "text": [
      "2373\n",
      "2371\n"
     ]
    }
   ],
   "source": [
    "print(sum(train_data['количество дошкольников на 1 дет сад'].isna()))\n",
    "print(sum(train_data['количество школьников на 1 школу'].isna()))"
   ]
  },
  {
   "cell_type": "markdown",
   "metadata": {
    "colab_type": "text",
    "id": "gKBop_fnz_Co"
   },
   "source": [
    "Устраним их, заменяя средним значением по одинаковым районам, и, если после этого остануться пропуски, просто удалим их:"
   ]
  },
  {
   "cell_type": "code",
   "execution_count": 45,
   "metadata": {
    "colab": {},
    "colab_type": "code",
    "id": "62CYyl3sz_Co"
   },
   "outputs": [],
   "source": [
    "tmp_data = train_data.groupby(['район']).median()\n",
    "\n",
    "for now1 in tmp_data.index:\n",
    "    for now2 in train_data.index:\n",
    "        if train_data.loc[now2, 'район'] == now1 and math.isnan(train_data.loc[now2, 'количество дошкольников на 1 дет сад']):\n",
    "            train_data.loc[now2, 'количество дошкольников на 1 дет сад'] = tmp_data.loc[now1, 'количество дошкольников на 1 дет сад']\n",
    "\n",
    "for now1 in tmp_data.index:\n",
    "    for now2 in train_data.index:\n",
    "        if train_data.loc[now2, 'район'] == now1 and math.isnan(train_data.loc[now2, 'количество школьников на 1 школу']):\n",
    "            train_data.loc[now2, 'количество школьников на 1 школу'] = tmp_data.loc[now1, 'количество школьников на 1 школу']"
   ]
  },
  {
   "cell_type": "code",
   "execution_count": 46,
   "metadata": {
    "colab": {},
    "colab_type": "code",
    "id": "6v5PoQjEz_Ct"
   },
   "outputs": [],
   "source": [
    "train_data.dropna(axis='index', how='any', subset=['количество дошкольников на 1 дет сад'], inplace=True)\n",
    "train_data.dropna(axis='index', how='any', subset=['количество школьников на 1 школу'], inplace=True)\n",
    "train_data.drop(['район'], axis='columns', inplace=True)"
   ]
  },
  {
   "cell_type": "markdown",
   "metadata": {
    "colab_type": "text",
    "id": "VPGoaVgKz_Cv"
   },
   "source": [
    "Посмотрим как влияют на цену число больничных коек и число больниц:"
   ]
  },
  {
   "cell_type": "code",
   "execution_count": 47,
   "metadata": {
    "colab": {
     "base_uri": "https://localhost:8080/",
     "height": 899
    },
    "colab_type": "code",
    "executionInfo": {
     "elapsed": 1572,
     "status": "ok",
     "timestamp": 1591534481680,
     "user": {
      "displayName": "Артем Аппалонов",
      "photoUrl": "https://lh3.googleusercontent.com/a-/AOh14Gjgbm6aTlWzcH_FO-MQ1AACkCOFA8cWOXGV6vPw=s64",
      "userId": "00355921924305036211"
     },
     "user_tz": -240
    },
    "id": "xKlrSJ8Rz_Cv",
    "outputId": "ab0e0873-04a9-4576-b26e-2399496bc430",
    "scrolled": false
   },
   "outputs": [
    {
     "data": {
      "image/png": "[encoded data removed]",
      "text/plain": [
       "<Figure size 1152x504 with 1 Axes>"
      ]
     },
     "metadata": {
      "needs_background": "light"
     },
     "output_type": "display_data"
    },
    {
     "data": {
      "image/png": "[encoded data removed]",
      "text/plain": [
       "<Figure size 1152x504 with 1 Axes>"
      ]
     },
     "metadata": {
      "needs_background": "light"
     },
     "output_type": "display_data"
    }
   ],
   "source": [
    "plt.figure(figsize(16,7))\n",
    "plt.subplot(121)\n",
    "scatter(train_data['кол-во больничных коек на райоене'], train_data['цена_продажа'])\n",
    "plt.xlabel('кол-во больничных коек на районе', fontsize=14)\n",
    "plt.ylabel('цена_продажа', fontsize=14)\n",
    "pylab.show()\n",
    "plt.subplot(122)\n",
    "scatter(train_data['кол-во больниц на районе'], train_data['цена_продажа'])\n",
    "plt.xlabel('кол-во больниц на районе', fontsize=14)\n",
    "plt.ylabel('Цена продажи', fontsize=14)\n",
    "pylab.show()"
   ]
  },
  {
   "cell_type": "markdown",
   "metadata": {
    "colab_type": "text",
    "id": "UcN2MwdFz_C1"
   },
   "source": [
    "Количество больничных коек на районе не влияют заметно на цену жилья, от этого столбца можно избавиться. Количество больниц имеет зависимость, похожую на линейную, одна точка правда выбивается довольно сильно из общей тенденции, проверим, является ли она выбросом с помощью интерквартильного размаха."
   ]
  },
  {
   "cell_type": "code",
   "execution_count": 48,
   "metadata": {
    "colab": {
     "base_uri": "https://localhost:8080/",
     "height": 456
    },
    "colab_type": "code",
    "executionInfo": {
     "elapsed": 1145,
     "status": "ok",
     "timestamp": 1591534485400,
     "user": {
      "displayName": "Артем Аппалонов",
      "photoUrl": "https://lh3.googleusercontent.com/a-/AOh14Gjgbm6aTlWzcH_FO-MQ1AACkCOFA8cWOXGV6vPw=s64",
      "userId": "00355921924305036211"
     },
     "user_tz": -240
    },
    "id": "tuyqb-BKz_C1",
    "outputId": "4379d0c4-d0e5-4a12-b187-7a544b8d53d9"
   },
   "outputs": [
    {
     "data": {
      "text/plain": [
       "<matplotlib.axes._subplots.AxesSubplot at 0x26252f4f7f0>"
      ]
     },
     "execution_count": 48,
     "metadata": {},
     "output_type": "execute_result"
    },
    {
     "data": {
      "image/png": "[encoded data removed]",
      "text/plain": [
       "<Figure size 1152x504 with 1 Axes>"
      ]
     },
     "metadata": {
      "needs_background": "light"
     },
     "output_type": "display_data"
    }
   ],
   "source": [
    "data = train_data[train_data['кол-во больниц на районе']== 1]\n",
    "data.boxplot(column=['цена_продажа'])"
   ]
  },
  {
   "cell_type": "markdown",
   "metadata": {
    "colab_type": "text",
    "id": "6p3MQDIRz_C4"
   },
   "source": [
    "Точка и тут очень сильно выбивается, уберем её."
   ]
  },
  {
   "cell_type": "code",
   "execution_count": 49,
   "metadata": {
    "colab": {},
    "colab_type": "code",
    "id": "jyuUa00fz_C7"
   },
   "outputs": [],
   "source": [
    "outlier = train_data[train_data['цена_продажа'] > 1e8].index\n",
    "train_data.drop(['кол-во больничных коек на райоене'], axis='columns', inplace=True)\n",
    "train_data.drop(outlier, inplace=True)"
   ]
  },
  {
   "cell_type": "code",
   "execution_count": 50,
   "metadata": {
    "colab": {
     "base_uri": "https://localhost:8080/",
     "height": 411
    },
    "colab_type": "code",
    "executionInfo": {
     "elapsed": 1625,
     "status": "ok",
     "timestamp": 1591534532353,
     "user": {
      "displayName": "Артем Аппалонов",
      "photoUrl": "https://lh3.googleusercontent.com/a-/AOh14Gjgbm6aTlWzcH_FO-MQ1AACkCOFA8cWOXGV6vPw=s64",
      "userId": "00355921924305036211"
     },
     "user_tz": -240
    },
    "id": "E1U_MFy1z_C-",
    "outputId": "42640651-dc90-4043-ec6e-17edc7bfbd16"
   },
   "outputs": [
    {
     "data": {
      "text/html": [
       "<div>\n",
       "<style scoped>\n",
       "    .dataframe tbody tr th:only-of-type {\n",
       "        vertical-align: middle;\n",
       "    }\n",
       "\n",
       "    .dataframe tbody tr th {\n",
       "        vertical-align: top;\n",
       "    }\n",
       "\n",
       "    .dataframe thead th {\n",
       "        text-align: right;\n",
       "    }\n",
       "</style>\n",
       "<table border=\"1\" class=\"dataframe\">\n",
       "  <thead>\n",
       "    <tr style=\"text-align: right;\">\n",
       "      <th></th>\n",
       "      <th>id</th>\n",
       "      <th>timestamp</th>\n",
       "      <th>главная компонента площади</th>\n",
       "      <th>этаж</th>\n",
       "      <th>макс этажи</th>\n",
       "      <th>из чего изготовлен</th>\n",
       "      <th>число комнат</th>\n",
       "      <th>состояние жилья</th>\n",
       "      <th>тип жилья</th>\n",
       "      <th>площадь района</th>\n",
       "      <th>...</th>\n",
       "      <th>кол-во больниц на районе</th>\n",
       "      <th>число университетов в ТОП 20 университетов москвы</th>\n",
       "      <th>кол-во спортивных объектов на районе</th>\n",
       "      <th>кол-во школ допольнительного обучения на районе</th>\n",
       "      <th>кол-во культурных объектов, входящих в ТОП 25 объектов Москвы</th>\n",
       "      <th>главная компонента тц и офисов</th>\n",
       "      <th>цена_продажа</th>\n",
       "      <th>средняя_цена_по_району</th>\n",
       "      <th>количество дошкольников на 1 дет сад</th>\n",
       "      <th>количество школьников на 1 школу</th>\n",
       "    </tr>\n",
       "  </thead>\n",
       "  <tbody>\n",
       "    <tr>\n",
       "      <th>0</th>\n",
       "      <td>1</td>\n",
       "      <td>2011-08-20</td>\n",
       "      <td>-11.195782</td>\n",
       "      <td>4.0</td>\n",
       "      <td>NaN</td>\n",
       "      <td>0.0</td>\n",
       "      <td>2.0</td>\n",
       "      <td>3.0</td>\n",
       "      <td>1</td>\n",
       "      <td>6.407578e+06</td>\n",
       "      <td>...</td>\n",
       "      <td>1</td>\n",
       "      <td>0</td>\n",
       "      <td>7</td>\n",
       "      <td>3</td>\n",
       "      <td>0</td>\n",
       "      <td>-5.521740</td>\n",
       "      <td>5850000</td>\n",
       "      <td>6.624409e+06</td>\n",
       "      <td>1.914817</td>\n",
       "      <td>0.931676</td>\n",
       "    </tr>\n",
       "    <tr>\n",
       "      <th>1</th>\n",
       "      <td>2</td>\n",
       "      <td>2011-08-23</td>\n",
       "      <td>-23.212333</td>\n",
       "      <td>3.0</td>\n",
       "      <td>NaN</td>\n",
       "      <td>0.0</td>\n",
       "      <td>1.0</td>\n",
       "      <td>2.0</td>\n",
       "      <td>1</td>\n",
       "      <td>9.589337e+06</td>\n",
       "      <td>...</td>\n",
       "      <td>1</td>\n",
       "      <td>0</td>\n",
       "      <td>6</td>\n",
       "      <td>1</td>\n",
       "      <td>1</td>\n",
       "      <td>-8.033265</td>\n",
       "      <td>6000000</td>\n",
       "      <td>7.658988e+06</td>\n",
       "      <td>2.205835</td>\n",
       "      <td>1.244028</td>\n",
       "    </tr>\n",
       "    <tr>\n",
       "      <th>2</th>\n",
       "      <td>3</td>\n",
       "      <td>2011-08-27</td>\n",
       "      <td>-9.966175</td>\n",
       "      <td>2.0</td>\n",
       "      <td>NaN</td>\n",
       "      <td>0.0</td>\n",
       "      <td>2.0</td>\n",
       "      <td>2.0</td>\n",
       "      <td>1</td>\n",
       "      <td>4.808270e+06</td>\n",
       "      <td>...</td>\n",
       "      <td>1</td>\n",
       "      <td>0</td>\n",
       "      <td>5</td>\n",
       "      <td>1</td>\n",
       "      <td>0</td>\n",
       "      <td>-7.390502</td>\n",
       "      <td>5700000</td>\n",
       "      <td>6.541743e+06</td>\n",
       "      <td>4.018455</td>\n",
       "      <td>1.112366</td>\n",
       "    </tr>\n",
       "    <tr>\n",
       "      <th>3</th>\n",
       "      <td>4</td>\n",
       "      <td>2011-09-01</td>\n",
       "      <td>39.223992</td>\n",
       "      <td>9.0</td>\n",
       "      <td>NaN</td>\n",
       "      <td>0.0</td>\n",
       "      <td>3.0</td>\n",
       "      <td>2.0</td>\n",
       "      <td>1</td>\n",
       "      <td>1.258354e+07</td>\n",
       "      <td>...</td>\n",
       "      <td>1</td>\n",
       "      <td>0</td>\n",
       "      <td>17</td>\n",
       "      <td>6</td>\n",
       "      <td>0</td>\n",
       "      <td>-3.126261</td>\n",
       "      <td>13100000</td>\n",
       "      <td>8.818039e+06</td>\n",
       "      <td>1.913584</td>\n",
       "      <td>0.801149</td>\n",
       "    </tr>\n",
       "    <tr>\n",
       "      <th>4</th>\n",
       "      <td>5</td>\n",
       "      <td>2011-09-05</td>\n",
       "      <td>46.359526</td>\n",
       "      <td>4.0</td>\n",
       "      <td>NaN</td>\n",
       "      <td>0.0</td>\n",
       "      <td>3.0</td>\n",
       "      <td>2.0</td>\n",
       "      <td>1</td>\n",
       "      <td>8.398461e+06</td>\n",
       "      <td>...</td>\n",
       "      <td>4</td>\n",
       "      <td>2</td>\n",
       "      <td>25</td>\n",
       "      <td>2</td>\n",
       "      <td>0</td>\n",
       "      <td>85.147802</td>\n",
       "      <td>16331452</td>\n",
       "      <td>1.166152e+07</td>\n",
       "      <td>1.761111</td>\n",
       "      <td>0.868468</td>\n",
       "    </tr>\n",
       "  </tbody>\n",
       "</table>\n",
       "<p>5 rows × 24 columns</p>\n",
       "</div>"
      ],
      "text/plain": [
       "   id  timestamp  главная компонента площади  этаж  макс этажи  \\\n",
       "0   1 2011-08-20                  -11.195782   4.0         NaN   \n",
       "1   2 2011-08-23                  -23.212333   3.0         NaN   \n",
       "2   3 2011-08-27                   -9.966175   2.0         NaN   \n",
       "3   4 2011-09-01                   39.223992   9.0         NaN   \n",
       "4   5 2011-09-05                   46.359526   4.0         NaN   \n",
       "\n",
       "   из чего изготовлен  число комнат  состояние жилья  тип жилья  \\\n",
       "0                 0.0           2.0              3.0          1   \n",
       "1                 0.0           1.0              2.0          1   \n",
       "2                 0.0           2.0              2.0          1   \n",
       "3                 0.0           3.0              2.0          1   \n",
       "4                 0.0           3.0              2.0          1   \n",
       "\n",
       "   площадь района  ...  кол-во больниц на районе  \\\n",
       "0    6.407578e+06  ...                         1   \n",
       "1    9.589337e+06  ...                         1   \n",
       "2    4.808270e+06  ...                         1   \n",
       "3    1.258354e+07  ...                         1   \n",
       "4    8.398461e+06  ...                         4   \n",
       "\n",
       "   число университетов в ТОП 20 университетов москвы  \\\n",
       "0                                                  0   \n",
       "1                                                  0   \n",
       "2                                                  0   \n",
       "3                                                  0   \n",
       "4                                                  2   \n",
       "\n",
       "   кол-во спортивных объектов на районе  \\\n",
       "0                                     7   \n",
       "1                                     6   \n",
       "2                                     5   \n",
       "3                                    17   \n",
       "4                                    25   \n",
       "\n",
       "   кол-во школ допольнительного обучения на районе  \\\n",
       "0                                                3   \n",
       "1                                                1   \n",
       "2                                                1   \n",
       "3                                                6   \n",
       "4                                                2   \n",
       "\n",
       "   кол-во культурных объектов, входящих в ТОП 25 объектов Москвы  \\\n",
       "0                                                  0               \n",
       "1                                                  1               \n",
       "2                                                  0               \n",
       "3                                                  0               \n",
       "4                                                  0               \n",
       "\n",
       "   главная компонента тц и офисов  цена_продажа  средняя_цена_по_району  \\\n",
       "0                       -5.521740       5850000            6.624409e+06   \n",
       "1                       -8.033265       6000000            7.658988e+06   \n",
       "2                       -7.390502       5700000            6.541743e+06   \n",
       "3                       -3.126261      13100000            8.818039e+06   \n",
       "4                       85.147802      16331452            1.166152e+07   \n",
       "\n",
       "   количество дошкольников на 1 дет сад  количество школьников на 1 школу  \n",
       "0                              1.914817                          0.931676  \n",
       "1                              2.205835                          1.244028  \n",
       "2                              4.018455                          1.112366  \n",
       "3                              1.913584                          0.801149  \n",
       "4                              1.761111                          0.868468  \n",
       "\n",
       "[5 rows x 24 columns]"
      ]
     },
     "execution_count": 50,
     "metadata": {},
     "output_type": "execute_result"
    }
   ],
   "source": [
    "train_data.head()"
   ]
  },
  {
   "cell_type": "markdown",
   "metadata": {
    "colab_type": "text",
    "id": "ohXTL4EDz_DE"
   },
   "source": [
    "В столбцах \"этаж\" и \"максимальный этаж\" есть пропуски в данных. В столбце этаж пропущено всего 83 пункта - удалим их, в столбце максимальный этаж заменим максимальное значение этажа значением этажа, на котором находиться продаваемое помещение."
   ]
  },
  {
   "cell_type": "code",
   "execution_count": 51,
   "metadata": {
    "colab": {
     "base_uri": "https://localhost:8080/",
     "height": 51
    },
    "colab_type": "code",
    "executionInfo": {
     "elapsed": 1679,
     "status": "ok",
     "timestamp": 1591534535565,
     "user": {
      "displayName": "Артем Аппалонов",
      "photoUrl": "https://lh3.googleusercontent.com/a-/AOh14Gjgbm6aTlWzcH_FO-MQ1AACkCOFA8cWOXGV6vPw=s64",
      "userId": "00355921924305036211"
     },
     "user_tz": -240
    },
    "id": "gviU2WyFz_DE",
    "outputId": "e29e7166-a379-460e-cab1-a8faa3cb0b87"
   },
   "outputs": [
    {
     "name": "stdout",
     "output_type": "stream",
     "text": [
      "83\n",
      "6317\n"
     ]
    }
   ],
   "source": [
    "print(sum(train_data['этаж'].isna()))\n",
    "print(sum(train_data['макс этажи'].isna()))"
   ]
  },
  {
   "cell_type": "code",
   "execution_count": 52,
   "metadata": {
    "colab": {},
    "colab_type": "code",
    "id": "qbL8ul4Az_DI"
   },
   "outputs": [],
   "source": [
    "for now in train_data.index:\n",
    "    if math.isnan(train_data.loc[now, 'макс этажи']):\n",
    "        train_data.loc[now, 'макс этажи'] = train_data.loc[now, 'этаж']"
   ]
  },
  {
   "cell_type": "code",
   "execution_count": 53,
   "metadata": {
    "colab": {},
    "colab_type": "code",
    "id": "2H4lWyLXz_DP"
   },
   "outputs": [],
   "source": [
    "train_data.dropna(axis='index', how='any', subset=['этаж'], inplace=True)"
   ]
  },
  {
   "cell_type": "markdown",
   "metadata": {
    "colab_type": "text",
    "id": "TZurLXMLz_DR"
   },
   "source": [
    "Сгенерируем признаки месяц и год:"
   ]
  },
  {
   "cell_type": "code",
   "execution_count": 54,
   "metadata": {
    "colab": {},
    "colab_type": "code",
    "id": "qPM8aeAlz_DR"
   },
   "outputs": [],
   "source": [
    "train_data.timestamp = train_data.timestamp.apply(pd.to_datetime)\n",
    "train_data['month'] = train_data.timestamp.apply(lambda x : x.month)\n",
    "train_data['year'] = train_data.timestamp.apply(lambda x : x.year)"
   ]
  },
  {
   "cell_type": "code",
   "execution_count": 55,
   "metadata": {
    "colab": {},
    "colab_type": "code",
    "id": "Je6VNrRPz_DV"
   },
   "outputs": [],
   "source": [
    "train_data.drop(['timestamp'], axis='columns', inplace=True)\n",
    "train_data.drop(['id'], axis='columns', inplace=True)"
   ]
  },
  {
   "cell_type": "code",
   "execution_count": 56,
   "metadata": {
    "colab": {},
    "colab_type": "code",
    "id": "RSvHsJuPz_DZ"
   },
   "outputs": [],
   "source": [
    "train_data.rename(columns={'чисо жителей': 'число жителей'}, inplace=True)"
   ]
  },
  {
   "cell_type": "code",
   "execution_count": 57,
   "metadata": {
    "colab": {},
    "colab_type": "code",
    "id": "gmuaZDiSz_Dc"
   },
   "outputs": [],
   "source": [
    "train_data =  train_data.reindex(['month','year', 'главная компонента площади','этаж','макс этажи',\n",
    "                                  'из чего изготовлен','число комнат',\n",
    "                                  'состояние жилья','тип жилья','площадь района','число жителей','площадь зеленой зоны',\n",
    "                                  'площадь индустриальной зоны', 'число школ в рейтинге ТОП 20 школ москвы','кол-во больниц на районе',\n",
    "                                  'число университетов в ТОП 20 университетов москвы', 'кол-во спортивных объектов на районе',\n",
    "                                  'кол-во школ допольнительного обучения на районе','кол-во культурных объектов, входящих в ТОП 25 объектов Москвы',\n",
    "                                  'главная компонента тц и офисов','цена_продажа','средняя_цена_по_району',\n",
    "                                  'количество дошкольников на 1 дет сад', 'количество школьников на 1 школу'], axis='columns')"
   ]
  },
  {
   "cell_type": "code",
   "execution_count": 58,
   "metadata": {
    "colab": {
     "base_uri": "https://localhost:8080/",
     "height": 326
    },
    "colab_type": "code",
    "executionInfo": {
     "elapsed": 998,
     "status": "ok",
     "timestamp": 1591534637295,
     "user": {
      "displayName": "Артем Аппалонов",
      "photoUrl": "https://lh3.googleusercontent.com/a-/AOh14Gjgbm6aTlWzcH_FO-MQ1AACkCOFA8cWOXGV6vPw=s64",
      "userId": "00355921924305036211"
     },
     "user_tz": -240
    },
    "id": "5cnud6eQz_Df",
    "outputId": "627e3803-eaa8-4348-9854-dc7f17937db3"
   },
   "outputs": [
    {
     "data": {
      "text/html": [
       "<div>\n",
       "<style scoped>\n",
       "    .dataframe tbody tr th:only-of-type {\n",
       "        vertical-align: middle;\n",
       "    }\n",
       "\n",
       "    .dataframe tbody tr th {\n",
       "        vertical-align: top;\n",
       "    }\n",
       "\n",
       "    .dataframe thead th {\n",
       "        text-align: right;\n",
       "    }\n",
       "</style>\n",
       "<table border=\"1\" class=\"dataframe\">\n",
       "  <thead>\n",
       "    <tr style=\"text-align: right;\">\n",
       "      <th></th>\n",
       "      <th>month</th>\n",
       "      <th>year</th>\n",
       "      <th>главная компонента площади</th>\n",
       "      <th>этаж</th>\n",
       "      <th>макс этажи</th>\n",
       "      <th>из чего изготовлен</th>\n",
       "      <th>число комнат</th>\n",
       "      <th>состояние жилья</th>\n",
       "      <th>тип жилья</th>\n",
       "      <th>площадь района</th>\n",
       "      <th>...</th>\n",
       "      <th>кол-во больниц на районе</th>\n",
       "      <th>число университетов в ТОП 20 университетов москвы</th>\n",
       "      <th>кол-во спортивных объектов на районе</th>\n",
       "      <th>кол-во школ допольнительного обучения на районе</th>\n",
       "      <th>кол-во культурных объектов, входящих в ТОП 25 объектов Москвы</th>\n",
       "      <th>главная компонента тц и офисов</th>\n",
       "      <th>цена_продажа</th>\n",
       "      <th>средняя_цена_по_району</th>\n",
       "      <th>количество дошкольников на 1 дет сад</th>\n",
       "      <th>количество школьников на 1 школу</th>\n",
       "    </tr>\n",
       "  </thead>\n",
       "  <tbody>\n",
       "    <tr>\n",
       "      <th>0</th>\n",
       "      <td>8</td>\n",
       "      <td>2011</td>\n",
       "      <td>-11.195782</td>\n",
       "      <td>4.0</td>\n",
       "      <td>4.0</td>\n",
       "      <td>0.0</td>\n",
       "      <td>2.0</td>\n",
       "      <td>3.0</td>\n",
       "      <td>1</td>\n",
       "      <td>6.407578e+06</td>\n",
       "      <td>...</td>\n",
       "      <td>1</td>\n",
       "      <td>0</td>\n",
       "      <td>7</td>\n",
       "      <td>3</td>\n",
       "      <td>0</td>\n",
       "      <td>-5.521740</td>\n",
       "      <td>5850000</td>\n",
       "      <td>6.624409e+06</td>\n",
       "      <td>1.914817</td>\n",
       "      <td>0.931676</td>\n",
       "    </tr>\n",
       "    <tr>\n",
       "      <th>1</th>\n",
       "      <td>8</td>\n",
       "      <td>2011</td>\n",
       "      <td>-23.212333</td>\n",
       "      <td>3.0</td>\n",
       "      <td>3.0</td>\n",
       "      <td>0.0</td>\n",
       "      <td>1.0</td>\n",
       "      <td>2.0</td>\n",
       "      <td>1</td>\n",
       "      <td>9.589337e+06</td>\n",
       "      <td>...</td>\n",
       "      <td>1</td>\n",
       "      <td>0</td>\n",
       "      <td>6</td>\n",
       "      <td>1</td>\n",
       "      <td>1</td>\n",
       "      <td>-8.033265</td>\n",
       "      <td>6000000</td>\n",
       "      <td>7.658988e+06</td>\n",
       "      <td>2.205835</td>\n",
       "      <td>1.244028</td>\n",
       "    </tr>\n",
       "    <tr>\n",
       "      <th>2</th>\n",
       "      <td>8</td>\n",
       "      <td>2011</td>\n",
       "      <td>-9.966175</td>\n",
       "      <td>2.0</td>\n",
       "      <td>2.0</td>\n",
       "      <td>0.0</td>\n",
       "      <td>2.0</td>\n",
       "      <td>2.0</td>\n",
       "      <td>1</td>\n",
       "      <td>4.808270e+06</td>\n",
       "      <td>...</td>\n",
       "      <td>1</td>\n",
       "      <td>0</td>\n",
       "      <td>5</td>\n",
       "      <td>1</td>\n",
       "      <td>0</td>\n",
       "      <td>-7.390502</td>\n",
       "      <td>5700000</td>\n",
       "      <td>6.541743e+06</td>\n",
       "      <td>4.018455</td>\n",
       "      <td>1.112366</td>\n",
       "    </tr>\n",
       "    <tr>\n",
       "      <th>3</th>\n",
       "      <td>9</td>\n",
       "      <td>2011</td>\n",
       "      <td>39.223992</td>\n",
       "      <td>9.0</td>\n",
       "      <td>9.0</td>\n",
       "      <td>0.0</td>\n",
       "      <td>3.0</td>\n",
       "      <td>2.0</td>\n",
       "      <td>1</td>\n",
       "      <td>1.258354e+07</td>\n",
       "      <td>...</td>\n",
       "      <td>1</td>\n",
       "      <td>0</td>\n",
       "      <td>17</td>\n",
       "      <td>6</td>\n",
       "      <td>0</td>\n",
       "      <td>-3.126261</td>\n",
       "      <td>13100000</td>\n",
       "      <td>8.818039e+06</td>\n",
       "      <td>1.913584</td>\n",
       "      <td>0.801149</td>\n",
       "    </tr>\n",
       "    <tr>\n",
       "      <th>4</th>\n",
       "      <td>9</td>\n",
       "      <td>2011</td>\n",
       "      <td>46.359526</td>\n",
       "      <td>4.0</td>\n",
       "      <td>4.0</td>\n",
       "      <td>0.0</td>\n",
       "      <td>3.0</td>\n",
       "      <td>2.0</td>\n",
       "      <td>1</td>\n",
       "      <td>8.398461e+06</td>\n",
       "      <td>...</td>\n",
       "      <td>4</td>\n",
       "      <td>2</td>\n",
       "      <td>25</td>\n",
       "      <td>2</td>\n",
       "      <td>0</td>\n",
       "      <td>85.147802</td>\n",
       "      <td>16331452</td>\n",
       "      <td>1.166152e+07</td>\n",
       "      <td>1.761111</td>\n",
       "      <td>0.868468</td>\n",
       "    </tr>\n",
       "  </tbody>\n",
       "</table>\n",
       "<p>5 rows × 24 columns</p>\n",
       "</div>"
      ],
      "text/plain": [
       "   month  year  главная компонента площади  этаж  макс этажи  \\\n",
       "0      8  2011                  -11.195782   4.0         4.0   \n",
       "1      8  2011                  -23.212333   3.0         3.0   \n",
       "2      8  2011                   -9.966175   2.0         2.0   \n",
       "3      9  2011                   39.223992   9.0         9.0   \n",
       "4      9  2011                   46.359526   4.0         4.0   \n",
       "\n",
       "   из чего изготовлен  число комнат  состояние жилья  тип жилья  \\\n",
       "0                 0.0           2.0              3.0          1   \n",
       "1                 0.0           1.0              2.0          1   \n",
       "2                 0.0           2.0              2.0          1   \n",
       "3                 0.0           3.0              2.0          1   \n",
       "4                 0.0           3.0              2.0          1   \n",
       "\n",
       "   площадь района  ...  кол-во больниц на районе  \\\n",
       "0    6.407578e+06  ...                         1   \n",
       "1    9.589337e+06  ...                         1   \n",
       "2    4.808270e+06  ...                         1   \n",
       "3    1.258354e+07  ...                         1   \n",
       "4    8.398461e+06  ...                         4   \n",
       "\n",
       "   число университетов в ТОП 20 университетов москвы  \\\n",
       "0                                                  0   \n",
       "1                                                  0   \n",
       "2                                                  0   \n",
       "3                                                  0   \n",
       "4                                                  2   \n",
       "\n",
       "   кол-во спортивных объектов на районе  \\\n",
       "0                                     7   \n",
       "1                                     6   \n",
       "2                                     5   \n",
       "3                                    17   \n",
       "4                                    25   \n",
       "\n",
       "   кол-во школ допольнительного обучения на районе  \\\n",
       "0                                                3   \n",
       "1                                                1   \n",
       "2                                                1   \n",
       "3                                                6   \n",
       "4                                                2   \n",
       "\n",
       "   кол-во культурных объектов, входящих в ТОП 25 объектов Москвы  \\\n",
       "0                                                  0               \n",
       "1                                                  1               \n",
       "2                                                  0               \n",
       "3                                                  0               \n",
       "4                                                  0               \n",
       "\n",
       "   главная компонента тц и офисов  цена_продажа  средняя_цена_по_району  \\\n",
       "0                       -5.521740       5850000            6.624409e+06   \n",
       "1                       -8.033265       6000000            7.658988e+06   \n",
       "2                       -7.390502       5700000            6.541743e+06   \n",
       "3                       -3.126261      13100000            8.818039e+06   \n",
       "4                       85.147802      16331452            1.166152e+07   \n",
       "\n",
       "   количество дошкольников на 1 дет сад  количество школьников на 1 школу  \n",
       "0                              1.914817                          0.931676  \n",
       "1                              2.205835                          1.244028  \n",
       "2                              4.018455                          1.112366  \n",
       "3                              1.913584                          0.801149  \n",
       "4                              1.761111                          0.868468  \n",
       "\n",
       "[5 rows x 24 columns]"
      ]
     },
     "execution_count": 58,
     "metadata": {},
     "output_type": "execute_result"
    }
   ],
   "source": [
    "train_data.head()"
   ]
  },
  {
   "cell_type": "markdown",
   "metadata": {
    "colab_type": "text",
    "id": "kgOmIxvOz_Dh"
   },
   "source": [
    "Проверим нет осталось ли пропусков в данных:"
   ]
  },
  {
   "cell_type": "code",
   "execution_count": 59,
   "metadata": {
    "colab": {
     "base_uri": "https://localhost:8080/",
     "height": 459
    },
    "colab_type": "code",
    "executionInfo": {
     "elapsed": 1019,
     "status": "ok",
     "timestamp": 1591534643509,
     "user": {
      "displayName": "Артем Аппалонов",
      "photoUrl": "https://lh3.googleusercontent.com/a-/AOh14Gjgbm6aTlWzcH_FO-MQ1AACkCOFA8cWOXGV6vPw=s64",
      "userId": "00355921924305036211"
     },
     "user_tz": -240
    },
    "id": "tUm4pLbbz_Di",
    "outputId": "084e4b00-c787-4a3f-964f-76206bc13666"
   },
   "outputs": [
    {
     "data": {
      "text/plain": [
       "month                                                            0\n",
       "year                                                             0\n",
       "главная компонента площади                                       0\n",
       "этаж                                                             0\n",
       "макс этажи                                                       0\n",
       "из чего изготовлен                                               0\n",
       "число комнат                                                     0\n",
       "состояние жилья                                                  0\n",
       "тип жилья                                                        0\n",
       "площадь района                                                   0\n",
       "число жителей                                                    0\n",
       "площадь зеленой зоны                                             0\n",
       "площадь индустриальной зоны                                      0\n",
       "число школ в рейтинге ТОП 20 школ москвы                         0\n",
       "кол-во больниц на районе                                         0\n",
       "число университетов в ТОП 20 университетов москвы                0\n",
       "кол-во спортивных объектов на районе                             0\n",
       "кол-во школ допольнительного обучения на районе                  0\n",
       "кол-во культурных объектов, входящих в ТОП 25 объектов Москвы    0\n",
       "главная компонента тц и офисов                                   0\n",
       "цена_продажа                                                     0\n",
       "средняя_цена_по_району                                           0\n",
       "количество дошкольников на 1 дет сад                             0\n",
       "количество школьников на 1 школу                                 0\n",
       "dtype: int64"
      ]
     },
     "execution_count": 59,
     "metadata": {},
     "output_type": "execute_result"
    }
   ],
   "source": [
    "sum(train_data.isna())"
   ]
  },
  {
   "cell_type": "code",
   "execution_count": 60,
   "metadata": {
    "colab": {
     "base_uri": "https://localhost:8080/",
     "height": 306
    },
    "colab_type": "code",
    "executionInfo": {
     "elapsed": 1014,
     "status": "error",
     "timestamp": 1591534646697,
     "user": {
      "displayName": "Артем Аппалонов",
      "photoUrl": "https://lh3.googleusercontent.com/a-/AOh14Gjgbm6aTlWzcH_FO-MQ1AACkCOFA8cWOXGV6vPw=s64",
      "userId": "00355921924305036211"
     },
     "user_tz": -240
    },
    "id": "uvU1ykvzz_Dj",
    "outputId": "7ddbbc6f-89a8-426d-a6b2-b95ca88bdf56"
   },
   "outputs": [],
   "source": [
    "train_data.to_csv('C:/Users/Артем/Interviews/UD Group/train_data.csv',encoding='utf-8', index=False)"
   ]
  },
  {
   "cell_type": "markdown",
   "metadata": {
    "colab_type": "text",
    "id": "scFHgZOtz_Dk"
   },
   "source": [
    "Данные предобработаны, теперь переходим ко второму заданию - построение модели:"
   ]
  },
  {
   "cell_type": "markdown",
   "metadata": {
    "colab_type": "text",
    "id": "_tfLC1QUz_Dl"
   },
   "source": [
    "# Задача 2\n",
    "\n",
    "Построить модель предсказания цены продажи каждого лота жилой недвижимости (переменная «цена_продажа» в выборке train)."
   ]
  },
  {
   "cell_type": "code",
   "execution_count": 61,
   "metadata": {
    "colab": {},
    "colab_type": "code",
    "id": "1NST9A1zz_Dl"
   },
   "outputs": [],
   "source": [
    "train_data = pd.read_csv('train_data.csv')"
   ]
  },
  {
   "cell_type": "code",
   "execution_count": 62,
   "metadata": {
    "colab": {},
    "colab_type": "code",
    "id": "K3UyYgWmz_Dm"
   },
   "outputs": [],
   "source": [
    "def clean_dataset(df):\n",
    "    assert isinstance(df, pd.DataFrame), \"df needs to be a pd.DataFrame\"\n",
    "    df.dropna(inplace=True)\n",
    "    indices_to_keep = ~df.isin([np.nan, np.inf, -np.inf]).any(1)\n",
    "    return df[indices_to_keep].astype(np.float64)\n",
    "\n",
    "train = clean_dataset(train_data)"
   ]
  },
  {
   "cell_type": "code",
   "execution_count": 63,
   "metadata": {
    "colab": {},
    "colab_type": "code",
    "id": "RlLeRlXwz_Dq"
   },
   "outputs": [],
   "source": [
    "targets = train['цена_продажа']\n",
    "train.drop(['цена_продажа'], axis='columns', inplace=True)"
   ]
  },
  {
   "cell_type": "markdown",
   "metadata": {
    "colab_type": "text",
    "id": "6fCbjYiGz_Ds"
   },
   "source": [
    "Сначала отнормируем такие данные как \"главная компонента площади\", \"площадь района\", \"число жителей\", \"площадь зеленой зоны\", \"площадь индустриальной зоны\".                                                                                                "
   ]
  },
  {
   "cell_type": "code",
   "execution_count": 64,
   "metadata": {
    "colab": {},
    "colab_type": "code",
    "id": "Pcwlke4fz_Dt"
   },
   "outputs": [],
   "source": [
    "scaler_square_flat = MinMaxScaler()\n",
    "x1 = train_data[['главная компонента площади']].values.astype(float)\n",
    "train_data[['главная компонента площади']] = scaler_square_flat.fit_transform(x1)\n",
    "\n",
    "scaler_square_area = MinMaxScaler()\n",
    "x2 = train_data[['площадь района']].values.astype(float)\n",
    "train_data[['площадь района']] = scaler_square_area.fit_transform(x2)\n",
    "\n",
    "scaler_square_green = MinMaxScaler()\n",
    "x3 = train_data[['площадь зеленой зоны']].values.astype(float)\n",
    "train_data[['площадь зеленой зоны']] = scaler_square_green.fit_transform(x3)\n",
    "\n",
    "scaler_square_people = MinMaxScaler()\n",
    "x4 = train_data[['число жителей']].values.astype(float)\n",
    "train_data[['число жителей']] = scaler_square_people.fit_transform(x4)\n",
    "\n",
    "scaler_square_industry = MinMaxScaler()\n",
    "x5 = train_data[['площадь индустриальной зоны']].values.astype(float)\n",
    "train_data[['площадь индустриальной зоны']] = scaler_square_industry.fit_transform(x5)\n",
    "\n",
    "scaler_square_office = MinMaxScaler()\n",
    "x6 = train_data[['главная компонента тц и офисов']].values.astype(float)\n",
    "train_data[['главная компонента тц и офисов']] = scaler_square_office.fit_transform(x6)\n",
    "\n",
    "scaler_square_office = MinMaxScaler()\n",
    "x7 = train_data[['средняя_цена_по_району']].values.astype(float)\n",
    "train_data[['средняя_цена_по_району']] = scaler_square_office.fit_transform(x7)"
   ]
  },
  {
   "cell_type": "markdown",
   "metadata": {
    "colab_type": "text",
    "id": "8ioPH4UYz_Dv"
   },
   "source": [
    "Данные готовы. Пробуем настроить предсказатели. Чаще всего используеют в данных задачах следующие модели:\n",
    "\n",
    "- «Случайный лес».\n",
    "\n",
    "- Градиентный бустинг.\n",
    "\n",
    "- Метод опорных векторов.\n",
    "\n",
    "Обучим их. Но сперва подготовим тестовую выборку, по которой мы будем проверять качество модели. Разобьем данные на обучение и валидацию (отложенный тест):"
   ]
  },
  {
   "cell_type": "code",
   "execution_count": 65,
   "metadata": {
    "colab": {},
    "colab_type": "code",
    "id": "ds3UG9ESz_Dy"
   },
   "outputs": [],
   "source": [
    "X_train, X_test, y_train, y_test = train_test_split(train, targets, test_size=0.33)"
   ]
  },
  {
   "cell_type": "code",
   "execution_count": 66,
   "metadata": {
    "colab": {},
    "colab_type": "code",
    "id": "8m_ymLXtz_D0"
   },
   "outputs": [],
   "source": [
    "X_train.fillna(X_train.mean(), inplace=True)\n",
    "X_test.replace([np.inf, -np.inf], np.nan).dropna(how=\"all\", axis=1, inplace=True)"
   ]
  },
  {
   "cell_type": "markdown",
   "metadata": {},
   "source": [
    "Обучение проводилось на платформе GoogleColab(нумерация строк оттуда)"
   ]
  },
  {
   "cell_type": "code",
   "execution_count": 24,
   "metadata": {
    "colab": {
     "base_uri": "https://localhost:8080/",
     "height": 238
    },
    "colab_type": "code",
    "executionInfo": {
     "elapsed": 1798180,
     "status": "ok",
     "timestamp": 1591542955770,
     "user": {
      "displayName": "Артем Аппалонов",
      "photoUrl": "https://lh3.googleusercontent.com/a-/AOh14Gjgbm6aTlWzcH_FO-MQ1AACkCOFA8cWOXGV6vPw=s64",
      "userId": "00355921924305036211"
     },
     "user_tz": -240
    },
    "id": "tB7Kk_efz_D8",
    "outputId": "69bc4ac4-e95d-49c5-f9f3-17a20f7234fa"
   },
   "outputs": [
    {
     "name": "stdout",
     "output_type": "stream",
     "text": [
      "Fitting 4 folds for each of 25 candidates, totalling 100 fits\n"
     ]
    },
    {
     "name": "stderr",
     "output_type": "stream",
     "text": [
      "[Parallel(n_jobs=-1)]: Using backend LokyBackend with 2 concurrent workers.\n",
      "[Parallel(n_jobs=-1)]: Done  46 tasks      | elapsed: 17.8min\n",
      "[Parallel(n_jobs=-1)]: Done 100 out of 100 | elapsed: 29.8min finished\n"
     ]
    },
    {
     "name": "stdout",
     "output_type": "stream",
     "text": [
      "GradientBoostingRegressor(alpha=0.9, ccp_alpha=0.0, criterion='friedman_mse',\n",
      "                          init=None, learning_rate=0.1, loss='lad', max_depth=5,\n",
      "                          max_features='log2', max_leaf_nodes=None,\n",
      "                          min_impurity_decrease=0.0, min_impurity_split=None,\n",
      "                          min_samples_leaf=1, min_samples_split=6,\n",
      "                          min_weight_fraction_leaf=0.0, n_estimators=500,\n",
      "                          n_iter_no_change=None, presort='deprecated',\n",
      "                          random_state=42, subsample=1.0, tol=0.0001,\n",
      "                          validation_fraction=0.1, verbose=0, warm_start=False)\n"
     ]
    }
   ],
   "source": [
    "from sklearn.ensemble import GradientBoostingRegressor\n",
    "\n",
    "loss = ['ls', 'lad', 'huber']\n",
    "n_estimators = [100, 500, 1000]\n",
    "max_depth = [5, 10]\n",
    "min_samples_leaf = [1, 2, 6]\n",
    "min_samples_split = [2, 4, 6]\n",
    "\n",
    "max_features = ['auto', 'sqrt', 'log2', None]\n",
    "\n",
    "hyperparameter_grid = {'loss': loss,\n",
    "    'n_estimators': n_estimators,\n",
    "    'max_depth': max_depth,\n",
    "    'min_samples_leaf': min_samples_leaf,\n",
    "    'min_samples_split': min_samples_split,\n",
    "    'max_features': max_features}\n",
    "\n",
    "GB_model = GradientBoostingRegressor(random_state = 42)\n",
    "\n",
    "random_cv = RandomizedSearchCV(estimator=GB_model,\n",
    "    param_distributions=hyperparameter_grid,\n",
    "    cv=4, n_iter=25, \n",
    "    scoring = 'neg_mean_absolute_error',\n",
    "    n_jobs = -1, verbose = 1, \n",
    "    return_train_score = True,\n",
    "    random_state=42)\n",
    "\n",
    "random_cv.fit(X_train, y_train)\n",
    "\n",
    "print(random_cv.best_estimator_)"
   ]
  },
  {
   "cell_type": "code",
   "execution_count": 25,
   "metadata": {
    "colab": {
     "base_uri": "https://localhost:8080/",
     "height": 204
    },
    "colab_type": "code",
    "executionInfo": {
     "elapsed": 2563682,
     "status": "ok",
     "timestamp": 1591546037637,
     "user": {
      "displayName": "Артем Аппалонов",
      "photoUrl": "https://lh3.googleusercontent.com/a-/AOh14Gjgbm6aTlWzcH_FO-MQ1AACkCOFA8cWOXGV6vPw=s64",
      "userId": "00355921924305036211"
     },
     "user_tz": -240
    },
    "id": "EY_s9PuPz_D_",
    "outputId": "65e3170a-e02d-470f-a6b8-455ffd8042ca"
   },
   "outputs": [
    {
     "name": "stdout",
     "output_type": "stream",
     "text": [
      "Fitting 4 folds for each of 25 candidates, totalling 100 fits\n"
     ]
    },
    {
     "name": "stderr",
     "output_type": "stream",
     "text": [
      "[Parallel(n_jobs=-1)]: Using backend LokyBackend with 2 concurrent workers.\n",
      "[Parallel(n_jobs=-1)]: Done  46 tasks      | elapsed: 15.9min\n",
      "[Parallel(n_jobs=-1)]: Done 100 out of 100 | elapsed: 42.5min finished\n"
     ]
    },
    {
     "name": "stdout",
     "output_type": "stream",
     "text": [
      "RandomForestRegressor(bootstrap=True, ccp_alpha=0.0, criterion='mse',\n",
      "                      max_depth=15, max_features='log2', max_leaf_nodes=None,\n",
      "                      max_samples=None, min_impurity_decrease=0.0,\n",
      "                      min_impurity_split=None, min_samples_leaf=2,\n",
      "                      min_samples_split=10, min_weight_fraction_leaf=0.0,\n",
      "                      n_estimators=1000, n_jobs=None, oob_score=False,\n",
      "                      random_state=42, verbose=0, warm_start=False)\n"
     ]
    }
   ],
   "source": [
    "from sklearn.ensemble import RandomForestRegressor\n",
    "\n",
    "n_estimators = [1000, 1200, 1500]\n",
    "max_depth = [5, 10, 15, 20]\n",
    "min_samples_leaf = [1, 2, 6, 8]\n",
    "min_samples_split = [2, 4, 6, 10]\n",
    "\n",
    "max_features = ['auto', 'sqrt', 'log2', None]\n",
    "\n",
    "hyperparameter_grid = {'n_estimators': n_estimators,\n",
    "    'max_depth': max_depth,\n",
    "    'min_samples_leaf': min_samples_leaf,\n",
    "    'min_samples_split': min_samples_split,\n",
    "    'max_features': max_features}\n",
    "\n",
    "random_forest = RandomForestRegressor(random_state=42)\n",
    "\n",
    "random_cv = RandomizedSearchCV(estimator=random_forest,\n",
    "    param_distributions=hyperparameter_grid,\n",
    "    cv=4, n_iter=25, \n",
    "    scoring = 'neg_mean_absolute_error',\n",
    "    n_jobs = -1, verbose = 1, \n",
    "    return_train_score = True,\n",
    "    random_state=42)\n",
    "\n",
    "random_cv.fit(X_train, y_train)\n",
    "\n",
    "print(random_cv.best_estimator_)"
   ]
  },
  {
   "cell_type": "code",
   "execution_count": 28,
   "metadata": {
    "colab": {
     "base_uri": "https://localhost:8080/",
     "height": 102
    },
    "colab_type": "code",
    "executionInfo": {
     "elapsed": 306191,
     "status": "ok",
     "timestamp": 1591548376459,
     "user": {
      "displayName": "Артем Аппалонов",
      "photoUrl": "https://lh3.googleusercontent.com/a-/AOh14Gjgbm6aTlWzcH_FO-MQ1AACkCOFA8cWOXGV6vPw=s64",
      "userId": "00355921924305036211"
     },
     "user_tz": -240
    },
    "id": "V6ybS8oAz_EB",
    "outputId": "48ad7070-aab9-4c8d-c45a-0644dbc775d4"
   },
   "outputs": [
    {
     "name": "stdout",
     "output_type": "stream",
     "text": [
      "Fitting 4 folds for each of 9 candidates, totalling 36 fits\n"
     ]
    },
    {
     "name": "stderr",
     "output_type": "stream",
     "text": [
      "[Parallel(n_jobs=-1)]: Using backend LokyBackend with 2 concurrent workers.\n",
      "[Parallel(n_jobs=-1)]: Done  36 out of  36 | elapsed:  4.9min finished\n"
     ]
    },
    {
     "name": "stdout",
     "output_type": "stream",
     "text": [
      "SVR(C=1000.0, cache_size=200, coef0=0.0, degree=3, epsilon=0.1, gamma='scale',\n",
      "    kernel='poly', max_iter=-1, shrinking=True, tol=0.001, verbose=False)\n"
     ]
    }
   ],
   "source": [
    "from sklearn.svm import SVR\n",
    "\n",
    "kernel = ['poly', 'rbf', 'sigmoid']\n",
    "C = [500.0, 1000.0, 1200.0]\n",
    "\n",
    "hyperparameter_grid = {'kernel': kernel,\n",
    "    'C': C}\n",
    "\n",
    "SVM = SVR()\n",
    "\n",
    "random_cv = RandomizedSearchCV(estimator=SVM,\n",
    "    param_distributions=hyperparameter_grid,\n",
    "    cv=4, n_iter=25, \n",
    "    scoring = 'neg_mean_absolute_error',\n",
    "    n_jobs = -1, verbose = 1, \n",
    "    return_train_score = True,\n",
    "    random_state=42)\n",
    "\n",
    "random_cv.fit(X_train, y_train)\n",
    "\n",
    "print(random_cv.best_estimator_)"
   ]
  },
  {
   "cell_type": "markdown",
   "metadata": {
    "colab": {},
    "colab_type": "code",
    "id": "pUwh7kodz_EF"
   },
   "source": [
    "Протестируем лучшие классификаторы и сравним, какие из них лучше отработают на отложенном тесте:"
   ]
  },
  {
   "cell_type": "code",
   "execution_count": 67,
   "metadata": {},
   "outputs": [
    {
     "name": "stdout",
     "output_type": "stream",
     "text": [
      "Gradient Boosted Performance on the test set: MAE = 1663284.1275\n"
     ]
    }
   ],
   "source": [
    "# Create the model Gradient Boosting\n",
    "gradient_boosted = GradientBoostingRegressor(alpha=0.9, ccp_alpha=0.0, criterion='friedman_mse',\n",
    "                          init=None, learning_rate=0.1, loss='lad', max_depth=5,\n",
    "                          max_features='log2', max_leaf_nodes=None,\n",
    "                          min_impurity_decrease=0.0, min_impurity_split=None,\n",
    "                          min_samples_leaf=1, min_samples_split=6,\n",
    "                          min_weight_fraction_leaf=0.0, n_estimators=500,\n",
    "                          n_iter_no_change=None, presort='deprecated',\n",
    "                          random_state=42, subsample=1.0, tol=0.0001,\n",
    "                          validation_fraction=0.1, verbose=0, warm_start=False)\n",
    "gradient_boosted.fit(X_train, y_train)\n",
    "\n",
    "\n",
    "predictions = gradient_boosted.predict(X_test)\n",
    "mae = np.mean(abs(predictions - y_test))\n",
    "\n",
    "print('Gradient Boosted Performance on the test set: MAE = %0.4f' % mae)"
   ]
  },
  {
   "cell_type": "code",
   "execution_count": 68,
   "metadata": {},
   "outputs": [
    {
     "name": "stdout",
     "output_type": "stream",
     "text": [
      "Random Forest Performance on the test set: MAE = 1845136.9598\n"
     ]
    }
   ],
   "source": [
    "# Create the model Random Forest\n",
    "random_forest = RandomForestRegressor(bootstrap=True, ccp_alpha=0.0, criterion='mse',\n",
    "                      max_depth=15, max_features='log2', max_leaf_nodes=None,\n",
    "                      max_samples=None, min_impurity_decrease=0.0,\n",
    "                      min_impurity_split=None, min_samples_leaf=2,\n",
    "                      min_samples_split=10, min_weight_fraction_leaf=0.0,\n",
    "                      n_estimators=1000, n_jobs=None, oob_score=False,\n",
    "                      random_state=42, verbose=0, warm_start=False)\n",
    "\n",
    "random_forest.fit(X_train, y_train)\n",
    "\n",
    "\n",
    "predictions = random_forest.predict(X_test)\n",
    "mae = np.mean(abs(predictions - y_test))\n",
    "\n",
    "print('Random Forest Performance on the test set: MAE = %0.4f' % mae)"
   ]
  },
  {
   "cell_type": "code",
   "execution_count": 69,
   "metadata": {},
   "outputs": [
    {
     "name": "stdout",
     "output_type": "stream",
     "text": [
      "Support Vector Machine on the test set: MAE = 2873459.9877\n"
     ]
    }
   ],
   "source": [
    "# Create the model SVM\n",
    "\n",
    "svm = SVR(C=1000.0, cache_size=200, coef0=0.0, degree=3, epsilon=0.1, gamma='scale',\n",
    "    kernel='poly', max_iter=-1, shrinking=True, tol=0.001, verbose=False)\n",
    "\n",
    "svm.fit(X_train, y_train)\n",
    "\n",
    "\n",
    "predictions = svm.predict(X_test)\n",
    "mae = np.mean(abs(predictions - y_test))\n",
    "\n",
    "print('Support Vector Machine on the test set: MAE = %0.4f' % mae)"
   ]
  },
  {
   "cell_type": "markdown",
   "metadata": {},
   "source": [
    "Наименьшую ошибку показал GradientBoosting - его и будем использовать в качестве основного алгоритма для предсказания. Но сначала предобработаем тестовые данные:"
   ]
  },
  {
   "cell_type": "code",
   "execution_count": 70,
   "metadata": {
    "colab": {},
    "colab_type": "code",
    "id": "hnEDQA-8z_EK"
   },
   "outputs": [],
   "source": [
    "test_data = pd.read_excel('test_t.xlsx')"
   ]
  },
  {
   "cell_type": "code",
   "execution_count": 71,
   "metadata": {},
   "outputs": [],
   "source": [
    "for (now1, i) in zip(test_data['район'], range(len(test_data['район']))):\n",
    "    for now2 in area.index:\n",
    "        if now1 == now2:\n",
    "            test_data.loc[i, 'район'] = area.loc[now2, 'цена_продажа']\n",
    "test_data.rename(columns={'район': 'средняя_цена_по_району'}, inplace=True)"
   ]
  },
  {
   "cell_type": "code",
   "execution_count": 72,
   "metadata": {
    "colab": {},
    "colab_type": "code",
    "id": "eEGMt7vnz_EM",
    "outputId": "43c40952-ba3f-4e6b-ce87-317081cb3cea"
   },
   "outputs": [],
   "source": [
    "test_data.dropna(axis=0, inplace=True)\n",
    "\n",
    "index = test_data[test_data['жилая площадь'] > test_data['площадь']].index.tolist()\n",
    "test_data.drop(index, inplace=True)\n",
    "X1 = np.vstack((np.array(test_data['площадь']), np.array(test_data['жилая площадь'])))\n",
    "pca_test_1 = pca_1.transform(X1.T)\n",
    "\n",
    "test_data['площадь'] = pca_test_1\n",
    "\n",
    "test_data['количество дошкольников на 1 дет сад'] = test_data['кол-во дошкольников'] / test_data['вместимость дет.садов']\n",
    "test_data['количество школьников на 1 школу'] = test_data['кол-во школьников'] / test_data['вместимость школ']\n",
    "\n",
    "X2 = np.vstack((np.array(test_data['Кол-во офисов на районе']), np.array(test_data['Кол-во торговых центров на районе'])))\n",
    "pca_test_2 = pca2.transform(X2.T)\n",
    "test_data['Кол-во офисов на районе'] = pca_test_2\n",
    "\n",
    "test_data['тип жилья'] = test_data['тип жилья'].map({'Investment': 1, 'OwnerOccupier': 0}) \n",
    "\n",
    "\n",
    "test_data.drop(['есть ли культурный объект, входящий ТОП 25 достопримечательностей Москвы'], axis='columns', inplace=True)\n",
    "test_data.rename(columns={'площадь': 'главная компонента площади'}, inplace=True)\n",
    "test_data.drop(['жилая площадь'], axis='columns', inplace=True)\n",
    "\n",
    "test_data.rename(columns={'Кол-во офисов на районе': 'главная компонента тц и офисов'}, inplace=True)\n",
    "test_data.drop(['Кол-во торговых центров на районе'], axis='columns', inplace=True)\n",
    "\n",
    "test_data.drop(['площадь кухни'], axis='columns', inplace=True)\n",
    "test_data.drop(['кол-во дошкольников'], axis='columns', inplace=True)\n",
    "test_data.drop(['кол-во школьников'], axis='columns', inplace=True)\n",
    "test_data.drop(['вместимость дет.садов'], axis='columns', inplace=True)\n",
    "test_data.drop(['вместимость школ'], axis='columns', inplace=True)\n",
    "test_data.drop(['кол-во дет.садов на районе'], axis='columns', inplace=True)\n",
    "test_data.drop(['кол-во школ на районе'], axis='columns', inplace=True)\n",
    "test_data.drop(['кол-во больничных коек на райоене'], axis='columns', inplace=True)\n",
    "test_data.drop(['год постройки'], axis='columns', inplace=True)\n",
    "test_data.drop(['id'], axis='columns', inplace=True)\n",
    "test_data.rename(columns={'чисо жителей': 'число жителей'}, inplace=True)"
   ]
  },
  {
   "cell_type": "code",
   "execution_count": 73,
   "metadata": {},
   "outputs": [],
   "source": [
    "test_data.timestamp = test_data.timestamp.apply(pd.to_datetime)\n",
    "test_data['month'] = test_data.timestamp.apply(lambda x : x.month)\n",
    "test_data['year'] = test_data.timestamp.apply(lambda x : x.year)\n",
    "test_data.drop(['timestamp'], axis='columns', inplace=True)"
   ]
  },
  {
   "cell_type": "code",
   "execution_count": 74,
   "metadata": {},
   "outputs": [],
   "source": [
    "test_data =  test_data.reindex(['month','year', 'главная компонента площади','этаж','макс этажи',\n",
    "                                  'из чего изготовлен','число комнат',\n",
    "                                  'состояние жилья','тип жилья','площадь района','число жителей','площадь зеленой зоны',\n",
    "                                  'площадь индустриальной зоны', 'число школ в рейтинге ТОП 20 школ москвы','кол-во больниц на районе',\n",
    "                                  'число университетов в ТОП 20 университетов москвы', 'кол-во спортивных объектов на районе',\n",
    "                                  'кол-во школ допольнительного обучения на районе','кол-во культурных объектов, входящих в ТОП 25 объектов Москвы',\n",
    "                                  'главная компонента тц и офисов','средняя_цена_по_району',\n",
    "                                  'количество дошкольников на 1 дет сад', 'количество школьников на 1 школу'], axis='columns')"
   ]
  },
  {
   "cell_type": "code",
   "execution_count": 75,
   "metadata": {},
   "outputs": [],
   "source": [
    "x1 = test_data[['главная компонента площади']].values.astype(float)\n",
    "test_data[['главная компонента площади']] = scaler_square_flat.fit_transform(x1)\n",
    "\n",
    "x2 = test_data[['площадь района']].values.astype(float)\n",
    "test_data[['площадь района']] = scaler_square_area.fit_transform(x2)\n",
    "\n",
    "x3 = test_data[['площадь зеленой зоны']].values.astype(float)\n",
    "test_data[['площадь зеленой зоны']] = scaler_square_green.fit_transform(x3)\n",
    "\n",
    "x4 = test_data[['число жителей']].values.astype(float)\n",
    "test_data[['число жителей']] = scaler_square_people.fit_transform(x4)\n",
    "\n",
    "x5 = test_data[['площадь индустриальной зоны']].values.astype(float)\n",
    "test_data[['площадь индустриальной зоны']] = scaler_square_industry.fit_transform(x5)\n",
    "\n",
    "x6 = test_data[['главная компонента тц и офисов']].values.astype(float)\n",
    "test_data[['главная компонента тц и офисов']] = scaler_square_office.fit_transform(x6)\n",
    "\n",
    "x7 = test_data[['средняя_цена_по_району']].values.astype(float)\n",
    "test_data[['средняя_цена_по_району']] = scaler_square_office.fit_transform(x7)"
   ]
  },
  {
   "cell_type": "markdown",
   "metadata": {},
   "source": [
    "Делаем итоговое предсказание:"
   ]
  },
  {
   "cell_type": "code",
   "execution_count": 76,
   "metadata": {},
   "outputs": [],
   "source": [
    "def clean_dataset(df):\n",
    "    assert isinstance(df, pd.DataFrame), \"df needs to be a pd.DataFrame\"\n",
    "    df.dropna(axis=0, inplace=True)\n",
    "    indices_to_keep = ~df.isin([np.nan, np.inf, -np.inf]).any(1)\n",
    "    return df[indices_to_keep].astype(np.float64)\n",
    "\n",
    "test = clean_dataset(test_data)\n",
    "predictions_test = gradient_boosted.predict(test)"
   ]
  },
  {
   "cell_type": "code",
   "execution_count": 77,
   "metadata": {},
   "outputs": [],
   "source": [
    "pd.DataFrame(predictions_test).to_csv(\"C:/Users/Артем/Interviews/UD Group/predictions.csv\")"
   ]
  },
  {
   "cell_type": "markdown",
   "metadata": {},
   "source": [
    "На этом всё, спасибо за внимание!"
   ]
  },
  {
   "cell_type": "code",
   "execution_count": null,
   "metadata": {},
   "outputs": [],
   "source": []
  }
 ],
 "metadata": {
  "colab": {
   "collapsed_sections": [],
   "name": "Test_Appalonov.ipynb",
   "provenance": []
  },
  "kernelspec": {
   "display_name": "Python 3",
   "language": "python",
   "name": "python3"
  },
  "language_info": {
   "codemirror_mode": {
    "name": "ipython",
    "version": 3
   },
   "file_extension": ".py",
   "mimetype": "text/x-python",
   "name": "python",
   "nbconvert_exporter": "python",
   "pygments_lexer": "ipython3",
   "version": "3.7.3"
  }
 },
 "nbformat": 4,
 "nbformat_minor": 1
}
